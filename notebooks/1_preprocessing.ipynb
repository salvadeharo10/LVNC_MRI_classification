{
 "cells": [
  {
   "cell_type": "markdown",
   "metadata": {
    "id": "2r-YvAvXK9p1"
   },
   "source": [
    "# 1. Importar librerías y cargar datos"
   ]
  },
  {
   "cell_type": "code",
   "execution_count": 1,
   "metadata": {
    "execution": {
     "iopub.execute_input": "2025-06-08T12:39:34.391395Z",
     "iopub.status.busy": "2025-06-08T12:39:34.391248Z",
     "iopub.status.idle": "2025-06-08T12:39:36.821443Z",
     "shell.execute_reply": "2025-06-08T12:39:36.820050Z",
     "shell.execute_reply.started": "2025-06-08T12:39:34.391377Z"
    }
   },
   "outputs": [
    {
     "name": "stdout",
     "output_type": "stream",
     "text": [
      "Requirement already satisfied: imblearn in /home/user/miniconda3/envs/cvenv/lib/python3.10/site-packages (0.0)\n",
      "Requirement already satisfied: imbalanced-learn in /home/user/miniconda3/envs/cvenv/lib/python3.10/site-packages (from imblearn) (0.13.0)\n",
      "Requirement already satisfied: numpy<3,>=1.24.3 in /home/user/miniconda3/envs/cvenv/lib/python3.10/site-packages (from imbalanced-learn->imblearn) (1.26.4)\n",
      "Requirement already satisfied: scipy<2,>=1.10.1 in /home/user/miniconda3/envs/cvenv/lib/python3.10/site-packages (from imbalanced-learn->imblearn) (1.11.4)\n",
      "Requirement already satisfied: scikit-learn<2,>=1.3.2 in /home/user/miniconda3/envs/cvenv/lib/python3.10/site-packages (from imbalanced-learn->imblearn) (1.3.2)\n",
      "Requirement already satisfied: sklearn-compat<1,>=0.1 in /home/user/miniconda3/envs/cvenv/lib/python3.10/site-packages (from imbalanced-learn->imblearn) (0.1.3)\n",
      "Requirement already satisfied: joblib<2,>=1.1.1 in /home/user/miniconda3/envs/cvenv/lib/python3.10/site-packages (from imbalanced-learn->imblearn) (1.3.2)\n",
      "Requirement already satisfied: threadpoolctl<4,>=2.0.0 in /home/user/miniconda3/envs/cvenv/lib/python3.10/site-packages (from imbalanced-learn->imblearn) (3.2.0)\n"
     ]
    }
   ],
   "source": [
    "!pip install imblearn"
   ]
  },
  {
   "cell_type": "code",
   "execution_count": 2,
   "metadata": {
    "execution": {
     "iopub.execute_input": "2025-06-08T12:39:36.823828Z",
     "iopub.status.busy": "2025-06-08T12:39:36.823534Z",
     "iopub.status.idle": "2025-06-08T12:39:37.880353Z",
     "shell.execute_reply": "2025-06-08T12:39:37.879754Z",
     "shell.execute_reply.started": "2025-06-08T12:39:36.823797Z"
    },
    "executionInfo": {
     "elapsed": 241,
     "status": "ok",
     "timestamp": 1738771119557,
     "user": {
      "displayName": "Bruja De Blair",
      "userId": "16687618477425926377"
     },
     "user_tz": -60
    },
    "id": "bH7sOn3VC_oU"
   },
   "outputs": [],
   "source": [
    "import pandas as pd\n",
    "import numpy as np\n",
    "\n",
    "# Para preprocesamiento y modelado\n",
    "from sklearn.model_selection import train_test_split, GridSearchCV, StratifiedKFold, learning_curve\n",
    "from sklearn.preprocessing import OneHotEncoder, StandardScaler\n",
    "from sklearn.compose import ColumnTransformer\n",
    "from sklearn.pipeline import Pipeline\n",
    "from sklearn.feature_selection import SelectFromModel\n",
    "\n",
    "# Modelos\n",
    "from sklearn.ensemble import RandomForestClassifier\n",
    "from sklearn.svm import SVC\n",
    "from sklearn.linear_model import LogisticRegression\n",
    "\n",
    "# Manejo de desbalance\n",
    "from imblearn.over_sampling import SMOTE\n",
    "\n",
    "# Métricas\n",
    "from sklearn.metrics import classification_report, confusion_matrix\n",
    "\n",
    "import matplotlib.pyplot as plt\n",
    "import seaborn as sns\n",
    "import joblib\n",
    "\n",
    "pd.set_option('display.float_format', lambda x: '%.5f' % x)"
   ]
  },
  {
   "cell_type": "code",
   "execution_count": 3,
   "metadata": {
    "execution": {
     "iopub.execute_input": "2025-06-08T12:39:37.881709Z",
     "iopub.status.busy": "2025-06-08T12:39:37.881185Z",
     "iopub.status.idle": "2025-06-08T12:39:37.900225Z",
     "shell.execute_reply": "2025-06-08T12:39:37.899570Z",
     "shell.execute_reply.started": "2025-06-08T12:39:37.881686Z"
    },
    "executionInfo": {
     "elapsed": 220,
     "status": "ok",
     "timestamp": 1738770732489,
     "user": {
      "displayName": "Bruja De Blair",
      "userId": "16687618477425926377"
     },
     "user_tz": -60
    },
    "id": "7pc8Psm5K4Di"
   },
   "outputs": [],
   "source": [
    "# Cargar datos\n",
    "# Asumiendo que el DataFrame se llama df\n",
    "df = pd.read_csv('../datos/df_all_data.csv')"
   ]
  },
  {
   "cell_type": "markdown",
   "metadata": {
    "id": "SDxhvvdJLCoO"
   },
   "source": [
    "# 2.  Exploración inicial de datos\n",
    "\n",
    "Comprobamos:\n",
    "1. Presencia de valores Null.\n",
    "2. Tipo de dato de las variables o características."
   ]
  },
  {
   "cell_type": "code",
   "execution_count": 4,
   "metadata": {
    "colab": {
     "base_uri": "https://localhost:8080/"
    },
    "execution": {
     "iopub.execute_input": "2025-06-08T12:39:39.067541Z",
     "iopub.status.busy": "2025-06-08T12:39:39.066811Z",
     "iopub.status.idle": "2025-06-08T12:39:39.074303Z",
     "shell.execute_reply": "2025-06-08T12:39:39.073267Z",
     "shell.execute_reply.started": "2025-06-08T12:39:39.067513Z"
    },
    "executionInfo": {
     "elapsed": 195,
     "status": "ok",
     "timestamp": 1738770733454,
     "user": {
      "displayName": "Bruja De Blair",
      "userId": "16687618477425926377"
     },
     "user_tz": -60
    },
    "id": "f0JA-tTVLOG9",
    "outputId": "a6ef4fc2-e931-418a-fde8-546531eec80e"
   },
   "outputs": [
    {
     "name": "stdout",
     "output_type": "stream",
     "text": [
      "   paciente  num_slice      bg      el      ic       t set calidad  \\\n",
      "0  03170000          3 0.99956 0.87141 0.92278 0.60173   X    mala   \n",
      "1  03170000          4 0.99969 0.95587 0.90189 0.87512   X   media   \n",
      "2  03170000          5 0.99972 0.96712 0.98880 0.95881   X   buena   \n",
      "3  03170000          6 0.99956 0.95546 0.98706 0.96104   X   buena   \n",
      "4  03170000          7 0.99943 0.94567 0.98206 0.94283   X   buena   \n",
      "\n",
      "   confianza LV  area bbox LV  confianza IC  area bbox IC  \n",
      "0       0.64954         24275       0.82333         13183  \n",
      "1       0.74838         23286       0.63448         13021  \n",
      "2       0.91941         26557       0.91615         16125  \n",
      "3       0.93057         29575       0.90004         18809  \n",
      "4       0.97725         21910       0.97257         12095  \n"
     ]
    }
   ],
   "source": [
    "# Echar un vistazo a las primeras filas\n",
    "print(df.head())"
   ]
  },
  {
   "cell_type": "code",
   "execution_count": 5,
   "metadata": {
    "colab": {
     "base_uri": "https://localhost:8080/"
    },
    "execution": {
     "iopub.execute_input": "2025-06-08T12:39:40.381117Z",
     "iopub.status.busy": "2025-06-08T12:39:40.380843Z",
     "iopub.status.idle": "2025-06-08T12:39:40.391769Z",
     "shell.execute_reply": "2025-06-08T12:39:40.390861Z",
     "shell.execute_reply.started": "2025-06-08T12:39:40.381094Z"
    },
    "executionInfo": {
     "elapsed": 197,
     "status": "ok",
     "timestamp": 1738770735567,
     "user": {
      "displayName": "Bruja De Blair",
      "userId": "16687618477425926377"
     },
     "user_tz": -60
    },
    "id": "V8GGK5tuLSiq",
    "outputId": "23f817d0-a482-4c55-8cd7-9b2285ff5b31"
   },
   "outputs": [
    {
     "name": "stdout",
     "output_type": "stream",
     "text": [
      "<class 'pandas.core.frame.DataFrame'>\n",
      "RangeIndex: 3459 entries, 0 to 3458\n",
      "Data columns (total 12 columns):\n",
      " #   Column        Non-Null Count  Dtype  \n",
      "---  ------        --------------  -----  \n",
      " 0   paciente      3459 non-null   object \n",
      " 1   num_slice     3459 non-null   int64  \n",
      " 2   bg            3459 non-null   float64\n",
      " 3   el            3459 non-null   float64\n",
      " 4   ic            3459 non-null   float64\n",
      " 5   t             3459 non-null   float64\n",
      " 6   set           3459 non-null   object \n",
      " 7   calidad       3459 non-null   object \n",
      " 8   confianza LV  3459 non-null   float64\n",
      " 9   area bbox LV  3459 non-null   int64  \n",
      " 10  confianza IC  3459 non-null   float64\n",
      " 11  area bbox IC  3459 non-null   int64  \n",
      "dtypes: float64(6), int64(3), object(3)\n",
      "memory usage: 324.4+ KB\n"
     ]
    }
   ],
   "source": [
    "# Ver información general y tipos de datos\n",
    "df.info()"
   ]
  },
  {
   "cell_type": "code",
   "execution_count": 6,
   "metadata": {
    "execution": {
     "iopub.execute_input": "2025-06-08T12:39:49.042276Z",
     "iopub.status.busy": "2025-06-08T12:39:49.041807Z",
     "iopub.status.idle": "2025-06-08T12:39:49.271275Z",
     "shell.execute_reply": "2025-06-08T12:39:49.270513Z",
     "shell.execute_reply.started": "2025-06-08T12:39:49.042248Z"
    }
   },
   "outputs": [
    {
     "data": {
      "image/png": "[encoded data removed]",
      "text/plain": [
       "<Figure size 800x600 with 2 Axes>"
      ]
     },
     "metadata": {},
     "output_type": "display_data"
    }
   ],
   "source": [
    "# Filtrar solo las columnas numéricas relevantes para el análisis\n",
    "columnas_interes = ['t', 'confianza LV', 'area bbox LV', 'confianza IC', 'area bbox IC', 'num_slice']\n",
    "df_corr = df[columnas_interes].copy()\n",
    "\n",
    "# Calcular matriz de correlación\n",
    "correlation_matrix = df_corr.corr()\n",
    "\n",
    "# Visualizar la matriz con un heatmap\n",
    "plt.figure(figsize=(8, 6))\n",
    "sns.heatmap(correlation_matrix, annot=True, fmt='.2f', cmap='coolwarm',\n",
    "            linewidths=0.5, cbar_kws={\"shrink\": 0.8})\n",
    "plt.title('Matriz de correlación: Dice t vs Confianzas y Áreas YOLO', fontsize=14, fontweight='bold')\n",
    "\n",
    "# Aumentar tamaño de los ticks de los ejes\n",
    "plt.xticks(fontsize=12, rotation=30)\n",
    "plt.yticks(fontsize=12, rotation=0)\n",
    "\n",
    "plt.tight_layout()\n",
    "plt.show()"
   ]
  },
  {
   "cell_type": "code",
   "execution_count": 7,
   "metadata": {
    "execution": {
     "iopub.execute_input": "2025-06-08T12:39:52.983321Z",
     "iopub.status.busy": "2025-06-08T12:39:52.982542Z",
     "iopub.status.idle": "2025-06-08T12:39:52.988385Z",
     "shell.execute_reply": "2025-06-08T12:39:52.987764Z",
     "shell.execute_reply.started": "2025-06-08T12:39:52.983289Z"
    }
   },
   "outputs": [],
   "source": [
    "df.drop(['bg', 'el', 'ic', 't', 'set'], axis = 1, inplace = True)"
   ]
  },
  {
   "cell_type": "code",
   "execution_count": 8,
   "metadata": {
    "execution": {
     "iopub.execute_input": "2025-06-08T12:39:53.632222Z",
     "iopub.status.busy": "2025-06-08T12:39:53.631934Z",
     "iopub.status.idle": "2025-06-08T12:39:53.641080Z",
     "shell.execute_reply": "2025-06-08T12:39:53.640006Z",
     "shell.execute_reply.started": "2025-06-08T12:39:53.632198Z"
    }
   },
   "outputs": [
    {
     "name": "stdout",
     "output_type": "stream",
     "text": [
      "<class 'pandas.core.frame.DataFrame'>\n",
      "RangeIndex: 3459 entries, 0 to 3458\n",
      "Data columns (total 7 columns):\n",
      " #   Column        Non-Null Count  Dtype  \n",
      "---  ------        --------------  -----  \n",
      " 0   paciente      3459 non-null   object \n",
      " 1   num_slice     3459 non-null   int64  \n",
      " 2   calidad       3459 non-null   object \n",
      " 3   confianza LV  3459 non-null   float64\n",
      " 4   area bbox LV  3459 non-null   int64  \n",
      " 5   confianza IC  3459 non-null   float64\n",
      " 6   area bbox IC  3459 non-null   int64  \n",
      "dtypes: float64(2), int64(3), object(2)\n",
      "memory usage: 189.3+ KB\n"
     ]
    }
   ],
   "source": [
    "# Ver información general y tipos de datos\n",
    "df.info()"
   ]
  },
  {
   "cell_type": "code",
   "execution_count": 10,
   "metadata": {
    "colab": {
     "base_uri": "https://localhost:8080/",
     "height": 707
    },
    "execution": {
     "iopub.execute_input": "2025-06-08T12:40:24.757366Z",
     "iopub.status.busy": "2025-06-08T12:40:24.756819Z",
     "iopub.status.idle": "2025-06-08T12:40:24.763306Z",
     "shell.execute_reply": "2025-06-08T12:40:24.762419Z",
     "shell.execute_reply.started": "2025-06-08T12:40:24.757338Z"
    },
    "executionInfo": {
     "elapsed": 707,
     "status": "ok",
     "timestamp": 1738770737928,
     "user": {
      "displayName": "Bruja De Blair",
      "userId": "16687618477425926377"
     },
     "user_tz": -60
    },
    "id": "ShxKmGs2JyL-",
    "outputId": "bc0ec034-98eb-4f43-ca76-1d0a5f8c6d79"
   },
   "outputs": [
    {
     "data": {
      "text/plain": [
       "'\\n# Simulando el resultado de datos_diarios.info()\\ncolumns = df.columns.tolist()\\nnon_null_counts = [3459, 3459, 3459, 3459, 3459, 3459, 3405, 3133, 3453, 3453, 3405, 3405, 3405, 3415, 3405, 3453, 3453, 3459]\\ntotal_entries = 3459\\n\\n# Creando el DataFrame basado en los datos simulados\\ndatos_faltantes = pd.DataFrame(index=columns, data={\"Non-Null Count\": non_null_counts})\\ndatos_faltantes[\"Missing Count\"] = total_entries - datos_faltantes[\"Non-Null Count\"]\\n\\n# Gráfico apilado con datos disponibles y faltantes\\nplt.figure(figsize=(12, 8))\\nplt.bar(datos_faltantes.index, datos_faltantes[\"Non-Null Count\"], label=\"Datos Disponibles\", color=\"green\", edgecolor=\"black\")\\nplt.bar(datos_faltantes.index, datos_faltantes[\"Missing Count\"], bottom=datos_faltantes[\"Non-Null Count\"],\\n        label=\"Datos Faltantes\", color=\"red\", edgecolor=\"black\")\\n\\n# Etiquetas y leyenda\\nplt.title(\"Comparación entre Datos Disponibles y Faltantes por Variable\", fontsize=14)\\nplt.ylabel(\"Número de Datos\", fontsize=12)\\nplt.xlabel(\"Variables\", fontsize=12)\\nplt.xticks(rotation=45, ha=\"right\")\\nplt.legend(fontsize=12)\\nplt.tight_layout()\\nplt.show()\\n'"
      ]
     },
     "execution_count": 10,
     "metadata": {},
     "output_type": "execute_result"
    }
   ],
   "source": [
    "'''\n",
    "# Simulando el resultado de datos_diarios.info()\n",
    "columns = df.columns.tolist()\n",
    "non_null_counts = [3459, 3459, 3459, 3459, 3459, 3459, 3405, 3133, 3453, 3453, 3405, 3405, 3405, 3415, 3405, 3453, 3453, 3459]\n",
    "total_entries = 3459\n",
    "\n",
    "# Creando el DataFrame basado en los datos simulados\n",
    "datos_faltantes = pd.DataFrame(index=columns, data={\"Non-Null Count\": non_null_counts})\n",
    "datos_faltantes[\"Missing Count\"] = total_entries - datos_faltantes[\"Non-Null Count\"]\n",
    "\n",
    "# Gráfico apilado con datos disponibles y faltantes\n",
    "plt.figure(figsize=(12, 8))\n",
    "plt.bar(datos_faltantes.index, datos_faltantes[\"Non-Null Count\"], label=\"Datos Disponibles\", color=\"green\", edgecolor=\"black\")\n",
    "plt.bar(datos_faltantes.index, datos_faltantes[\"Missing Count\"], bottom=datos_faltantes[\"Non-Null Count\"],\n",
    "        label=\"Datos Faltantes\", color=\"red\", edgecolor=\"black\")\n",
    "\n",
    "# Etiquetas y leyenda\n",
    "plt.title(\"Comparación entre Datos Disponibles y Faltantes por Variable\", fontsize=14)\n",
    "plt.ylabel(\"Número de Datos\", fontsize=12)\n",
    "plt.xlabel(\"Variables\", fontsize=12)\n",
    "plt.xticks(rotation=45, ha=\"right\")\n",
    "plt.legend(fontsize=12)\n",
    "plt.tight_layout()\n",
    "plt.show()\n",
    "'''"
   ]
  },
  {
   "cell_type": "markdown",
   "metadata": {
    "id": "Lp22k9KiHmkL"
   },
   "source": [
    "Vemos que para algunos atributos tenemos valores Null. Como tenemos muchas muestras y las que tienen algun valor Null son pocas, lo mejor será eliminarlas."
   ]
  },
  {
   "cell_type": "code",
   "execution_count": null,
   "metadata": {
    "executionInfo": {
     "elapsed": 263,
     "status": "ok",
     "timestamp": 1738770741027,
     "user": {
      "displayName": "Bruja De Blair",
      "userId": "16687618477425926377"
     },
     "user_tz": -60
    },
    "id": "TuKiMkY5Jf-S"
   },
   "outputs": [],
   "source": [
    "df = df.dropna()"
   ]
  },
  {
   "cell_type": "code",
   "execution_count": null,
   "metadata": {
    "colab": {
     "base_uri": "https://localhost:8080/"
    },
    "executionInfo": {
     "elapsed": 205,
     "status": "ok",
     "timestamp": 1738770742384,
     "user": {
      "displayName": "Bruja De Blair",
      "userId": "16687618477425926377"
     },
     "user_tz": -60
    },
    "id": "TCECmEQnKv_Y",
    "outputId": "47df2e0c-e98c-4b59-8b43-b8e5eddece8f"
   },
   "outputs": [],
   "source": [
    "df.info()"
   ]
  },
  {
   "cell_type": "markdown",
   "metadata": {
    "id": "t-YG46rBK5WW"
   },
   "source": [
    "También vemos como todas las variables tienen el tipo de dato deseado:\n",
    "- Variables numéricas son float o int.\n",
    "- Variables categóricas (Fabricante, modelode máquina y variable objetivo) de tipo `object`."
   ]
  },
  {
   "cell_type": "markdown",
   "metadata": {
    "id": "VJI89H7XLwjN"
   },
   "source": [
    "# 3. División en características (X) y variable objetivo (y)"
   ]
  },
  {
   "cell_type": "code",
   "execution_count": 11,
   "metadata": {
    "execution": {
     "iopub.execute_input": "2025-06-08T12:40:33.751984Z",
     "iopub.status.busy": "2025-06-08T12:40:33.751469Z",
     "iopub.status.idle": "2025-06-08T12:40:33.756981Z",
     "shell.execute_reply": "2025-06-08T12:40:33.756285Z",
     "shell.execute_reply.started": "2025-06-08T12:40:33.751956Z"
    },
    "executionInfo": {
     "elapsed": 237,
     "status": "ok",
     "timestamp": 1738770744252,
     "user": {
      "displayName": "Bruja De Blair",
      "userId": "16687618477425926377"
     },
     "user_tz": -60
    },
    "id": "MRQlHfFMLrOP"
   },
   "outputs": [],
   "source": [
    "X = df.drop(columns = ['paciente','calidad'], axis=1)\n",
    "y = df['calidad']"
   ]
  },
  {
   "cell_type": "code",
   "execution_count": 12,
   "metadata": {
    "colab": {
     "base_uri": "https://localhost:8080/"
    },
    "execution": {
     "iopub.execute_input": "2025-06-08T12:40:37.236078Z",
     "iopub.status.busy": "2025-06-08T12:40:37.235377Z",
     "iopub.status.idle": "2025-06-08T12:40:37.246119Z",
     "shell.execute_reply": "2025-06-08T12:40:37.245228Z",
     "shell.execute_reply.started": "2025-06-08T12:40:37.236046Z"
    },
    "executionInfo": {
     "elapsed": 205,
     "status": "ok",
     "timestamp": 1738770747268,
     "user": {
      "displayName": "Bruja De Blair",
      "userId": "16687618477425926377"
     },
     "user_tz": -60
    },
    "id": "z0yw14z4qbt4",
    "outputId": "167247d7-b719-4ead-c8ab-d045614711b1"
   },
   "outputs": [
    {
     "name": "stdout",
     "output_type": "stream",
     "text": [
      "<class 'pandas.core.frame.DataFrame'>\n",
      "RangeIndex: 3459 entries, 0 to 3458\n",
      "Data columns (total 5 columns):\n",
      " #   Column        Non-Null Count  Dtype  \n",
      "---  ------        --------------  -----  \n",
      " 0   num_slice     3459 non-null   int64  \n",
      " 1   confianza LV  3459 non-null   float64\n",
      " 2   area bbox LV  3459 non-null   int64  \n",
      " 3   confianza IC  3459 non-null   float64\n",
      " 4   area bbox IC  3459 non-null   int64  \n",
      "dtypes: float64(2), int64(3)\n",
      "memory usage: 135.2 KB\n"
     ]
    }
   ],
   "source": [
    "X.info()"
   ]
  },
  {
   "cell_type": "markdown",
   "metadata": {
    "id": "2VE0i7VbMeS4"
   },
   "source": [
    "# 4. Codificación One-hot - variables Dummy\n",
    "\n",
    "Algunos de los métodos esembles que vamos a emplear no funcionan correctamente sobre variables categóricas, como es el caso de `RandomForest`. Por ello, introducimos variables dummy para codificar a las variables categóricas. Usamos la función `pandas.get_dummies()`. Pero antes, ponemos todos los valores de las   variables categóricas en minúscula."
   ]
  },
  {
   "cell_type": "code",
   "execution_count": null,
   "metadata": {
    "colab": {
     "base_uri": "https://localhost:8080/",
     "height": 290
    },
    "executionInfo": {
     "elapsed": 226,
     "status": "ok",
     "timestamp": 1738770750423,
     "user": {
      "displayName": "Bruja De Blair",
      "userId": "16687618477425926377"
     },
     "user_tz": -60
    },
    "id": "CybilBE3MtUA",
    "outputId": "0a4f4a24-e6ae-4cdf-a75d-97ffc7ff104c"
   },
   "outputs": [],
   "source": [
    "cat_cols = X.select_dtypes(include='object').columns\n",
    "X[cat_cols] = X[cat_cols].apply(lambda x: x.str.lower())\n",
    "variables_dummies = pd.get_dummies(X[cat_cols], drop_first = True, dummy_na = False)\n",
    "\n",
    "# Eliminamos los atributos originales\n",
    "X.drop(cat_cols, axis = 1, inplace = True)\n",
    "# Concatenamos los nuevos atributos creados para las variables categóricas\n",
    "X = pd.concat([X, variables_dummies], axis = 1)\n",
    "# Mostramos como quedan los datos de nuevo.\n",
    "X.head()"
   ]
  },
  {
   "cell_type": "markdown",
   "metadata": {
    "id": "n_2YVKHSNGMY"
   },
   "source": [
    "Como se puede apreciar, usamos el argumento `drop_first = True` para eliminar la primera de las columnas generadas para cada característica, con el objetivo de evitar la colinealidad (que una de las columnas sea combinación lineal de las demás). El número de características resultantes en el dataset es de 26."
   ]
  },
  {
   "cell_type": "markdown",
   "metadata": {
    "id": "YAUWFMsUO-cn"
   },
   "source": [
    "# 5. División train - test\n",
    "\n",
    "Separamos nuestros datos en un conjunto de entrenamiento y otro de prueba, de manera que las proporciones de las clases en la variable objetivo se mantengan (estratificación)."
   ]
  },
  {
   "cell_type": "code",
   "execution_count": 13,
   "metadata": {
    "execution": {
     "iopub.execute_input": "2025-06-08T12:40:46.954250Z",
     "iopub.status.busy": "2025-06-08T12:40:46.953287Z",
     "iopub.status.idle": "2025-06-08T12:40:46.964022Z",
     "shell.execute_reply": "2025-06-08T12:40:46.963290Z",
     "shell.execute_reply.started": "2025-06-08T12:40:46.954193Z"
    },
    "executionInfo": {
     "elapsed": 186,
     "status": "ok",
     "timestamp": 1738770754488,
     "user": {
      "displayName": "Bruja De Blair",
      "userId": "16687618477425926377"
     },
     "user_tz": -60
    },
    "id": "SrMuuI87PRKm"
   },
   "outputs": [],
   "source": [
    "# Dividir entre train y test con estratificación (importante si la clase está desbalanceada)\n",
    "X_train, X_test, y_train, y_test = train_test_split(\n",
    "    X, y,\n",
    "    test_size=0.2,\n",
    "    random_state=42,\n",
    "    stratify=y  # Mantener la proporción de clases\n",
    ")"
   ]
  },
  {
   "cell_type": "markdown",
   "metadata": {
    "id": "bRkSbNYQNK_C"
   },
   "source": [
    "# 6. Estudio de importancia de características\n",
    "\n",
    "Muchas veces es útil hacer un análisis preliminar de qué features (columnas) tienen mayor impacto en la predicción, sobre todo con modelos de tipo `RandomForest` o `Gradient Boosting` que ofrecen una forma sencilla de obtener la importancia de cada variable.\n",
    "\n"
   ]
  },
  {
   "cell_type": "markdown",
   "metadata": {
    "id": "8YjNqqpxRPus"
   },
   "source": [
    "## 6.1. Entrenar un modelo rápido de RandomForest\n",
    "\n",
    "Aquí haremos un RandomForestClassifier sencillo (sin hacer GridSearch todavía), para obtener la importancia de características."
   ]
  },
  {
   "cell_type": "code",
   "execution_count": 14,
   "metadata": {
    "colab": {
     "base_uri": "https://localhost:8080/"
    },
    "execution": {
     "iopub.execute_input": "2025-06-08T12:40:51.736058Z",
     "iopub.status.busy": "2025-06-08T12:40:51.735609Z",
     "iopub.status.idle": "2025-06-08T12:40:52.201430Z",
     "shell.execute_reply": "2025-06-08T12:40:52.200635Z",
     "shell.execute_reply.started": "2025-06-08T12:40:51.736029Z"
    },
    "executionInfo": {
     "elapsed": 802,
     "status": "ok",
     "timestamp": 1738770757982,
     "user": {
      "displayName": "Bruja De Blair",
      "userId": "16687618477425926377"
     },
     "user_tz": -60
    },
    "id": "c8d2IwABNKhw",
    "outputId": "82d4af4a-eb1a-41e1-b3a2-428576777cbb"
   },
   "outputs": [
    {
     "name": "stdout",
     "output_type": "stream",
     "text": [
      "Importancia de características (RandomForest):\n",
      "1. confianza IC: 0.4132\n",
      "2. confianza LV: 0.3813\n",
      "3. area bbox IC: 0.0833\n",
      "4. area bbox LV: 0.0766\n",
      "5. num_slice: 0.0456\n"
     ]
    }
   ],
   "source": [
    "# Entrenamos un random forest básico\n",
    "rf = RandomForestClassifier(n_estimators=100, random_state=42)\n",
    "rf.fit(X_train, y_train)\n",
    "\n",
    "# Obtener la importancia de las características\n",
    "importances = rf.feature_importances_\n",
    "features = X_train.columns\n",
    "\n",
    "# Ordenamos de mayor a menor importancia\n",
    "indices = np.argsort(importances)[::-1]\n",
    "\n",
    "# Mostramos las importancias de forma ordenada\n",
    "print(\"Importancia de características (RandomForest):\")\n",
    "for i in range(len(features)):\n",
    "    print(f\"{i+1}. {features[indices[i]]}: {importances[indices[i]]:.4f}\")"
   ]
  },
  {
   "cell_type": "markdown",
   "metadata": {
    "id": "dezPlF0ORQrH"
   },
   "source": [
    "## 6.2. Descartar características\n",
    "\n",
    "- Criterio: si ves que hay variables con importancia muy baja (por ejemplo, < 0.01 o un orden de magnitud menor que las demás), podrías considerar eliminarlas.\n",
    "- Herramienta: podrías utilizar `SelectFromModel` para automatizar el proceso."
   ]
  },
  {
   "cell_type": "code",
   "execution_count": 15,
   "metadata": {
    "execution": {
     "iopub.execute_input": "2025-06-08T12:40:56.692944Z",
     "iopub.status.busy": "2025-06-08T12:40:56.692591Z",
     "iopub.status.idle": "2025-06-08T12:40:56.697300Z",
     "shell.execute_reply": "2025-06-08T12:40:56.696412Z",
     "shell.execute_reply.started": "2025-06-08T12:40:56.692908Z"
    },
    "executionInfo": {
     "elapsed": 181,
     "status": "ok",
     "timestamp": 1738770764161,
     "user": {
      "displayName": "Bruja De Blair",
      "userId": "16687618477425926377"
     },
     "user_tz": -60
    },
    "id": "4Ekvlv_jRr06"
   },
   "outputs": [],
   "source": [
    "threshold=0.01"
   ]
  },
  {
   "cell_type": "code",
   "execution_count": 16,
   "metadata": {
    "colab": {
     "base_uri": "https://localhost:8080/"
    },
    "execution": {
     "iopub.execute_input": "2025-06-08T12:40:57.085327Z",
     "iopub.status.busy": "2025-06-08T12:40:57.084840Z",
     "iopub.status.idle": "2025-06-08T12:40:57.099761Z",
     "shell.execute_reply": "2025-06-08T12:40:57.098717Z",
     "shell.execute_reply.started": "2025-06-08T12:40:57.085299Z"
    },
    "executionInfo": {
     "elapsed": 178,
     "status": "ok",
     "timestamp": 1738770765011,
     "user": {
      "displayName": "Bruja De Blair",
      "userId": "16687618477425926377"
     },
     "user_tz": -60
    },
    "id": "sYbT1XuQRbsx",
    "outputId": "6d35c131-0c2d-42e5-96d4-8d8aa72c4ef7"
   },
   "outputs": [
    {
     "name": "stdout",
     "output_type": "stream",
     "text": [
      "Variables por encima del umbral de 0.01:\n",
      "[0 1 2 3 4]\n"
     ]
    }
   ],
   "source": [
    "selector = SelectFromModel(rf, threshold=threshold, prefit=True)\n",
    "\n",
    "# El selector crea una máscara booleana de las features seleccionadas\n",
    "selected_features = selector.get_support(indices=True)\n",
    "\n",
    "print(f\"Variables por encima del umbral de {threshold}:\")\n",
    "print(selected_features)\n",
    "\n",
    "# Podemos filtrar X_train, X_test\n",
    "X_train_selected = X_train.iloc[:, selected_features]\n",
    "X_test_selected = X_test.iloc[:, selected_features]"
   ]
  },
  {
   "cell_type": "code",
   "execution_count": null,
   "metadata": {
    "colab": {
     "base_uri": "https://localhost:8080/"
    },
    "executionInfo": {
     "elapsed": 214,
     "status": "ok",
     "timestamp": 1738770767045,
     "user": {
      "displayName": "Bruja De Blair",
      "userId": "16687618477425926377"
     },
     "user_tz": -60
    },
    "id": "lA7N789XSadw",
    "outputId": "a09b9b56-1a65-4f1e-9ab7-c83c00d10408"
   },
   "outputs": [],
   "source": [
    "X_train_selected.info()"
   ]
  },
  {
   "cell_type": "markdown",
   "metadata": {
    "id": "nPB6ysz2SyRb",
    "jp-MarkdownHeadingCollapsed": true
   },
   "source": [
    "# 7. Estudio de desbalanceo de clases - SMOTE\n",
    "\n",
    "Comenzamos analizando si efectivamente tennemos desbalanceo de clases.\n",
    "\n"
   ]
  },
  {
   "cell_type": "code",
   "execution_count": null,
   "metadata": {
    "colab": {
     "base_uri": "https://localhost:8080/"
    },
    "executionInfo": {
     "elapsed": 229,
     "status": "ok",
     "timestamp": 1738770769655,
     "user": {
      "displayName": "Bruja De Blair",
      "userId": "16687618477425926377"
     },
     "user_tz": -60
    },
    "id": "UYoOCxpISwdP",
    "outputId": "fad91446-70de-4595-d41f-4fea09165f34"
   },
   "outputs": [],
   "source": [
    "print(y_train.value_counts())"
   ]
  },
  {
   "cell_type": "code",
   "execution_count": null,
   "metadata": {
    "colab": {
     "base_uri": "https://localhost:8080/",
     "height": 576
    },
    "executionInfo": {
     "elapsed": 533,
     "status": "ok",
     "timestamp": 1738770772583,
     "user": {
      "displayName": "Bruja De Blair",
      "userId": "16687618477425926377"
     },
     "user_tz": -60
    },
    "id": "uowP9ACxUPup",
    "outputId": "b2a9ba54-d4d2-4fa0-f61a-7d6bf31439f5"
   },
   "outputs": [],
   "source": [
    "value_counts = y_train.value_counts()\n",
    "\n",
    "# Crear el gráfico de barras con los valores directamente de value_counts\n",
    "plt.figure(figsize=(8, 6))\n",
    "bars = plt.bar(value_counts.index, value_counts.values, color=['red', 'green', 'blue'])\n",
    "\n",
    "# Etiquetas y título\n",
    "plt.xlabel('Clases', fontsize=16)\n",
    "plt.ylabel('Número de casos', fontsize=16)\n",
    "plt.title('Distribución de calidad de cortes en train dataset', fontsize=16)\n",
    "\n",
    "# Añadir valores sobre las barras\n",
    "for bar in bars:\n",
    "    plt.text(bar.get_x() + bar.get_width() / 2,\n",
    "             bar.get_height() + 5,  # Un poco por encima de la barra\n",
    "             str(bar.get_height()),\n",
    "             ha='center', va='bottom',\n",
    "             fontsize=13, fontweight='bold')\n",
    "\n",
    "# Ajustar tamaño de los ticks\n",
    "plt.xticks(fontsize=12)\n",
    "plt.yticks(fontsize=12)\n",
    "\n",
    "# Mostrar el gráfico\n",
    "plt.show()"
   ]
  },
  {
   "cell_type": "markdown",
   "metadata": {
    "id": "C6VgLVzoUbwJ"
   },
   "source": [
    "Efectivamente las clases \"mala\" y \"buena\" están en minoríarespecto a la clase \"media\"."
   ]
  },
  {
   "cell_type": "markdown",
   "metadata": {
    "id": "My_nsjZAUj-Y"
   },
   "source": [
    "## 7.1. Aplicamos SMOTE en conjunto de train - Opcional"
   ]
  },
  {
   "cell_type": "markdown",
   "metadata": {
    "colab": {
     "base_uri": "https://localhost:8080/"
    },
    "execution": {
     "iopub.execute_input": "2025-04-21T12:23:40.496137Z",
     "iopub.status.busy": "2025-04-21T12:23:40.495666Z",
     "iopub.status.idle": "2025-04-21T12:23:40.537731Z",
     "shell.execute_reply": "2025-04-21T12:23:40.535826Z",
     "shell.execute_reply.started": "2025-04-21T12:23:40.496108Z"
    },
    "executionInfo": {
     "elapsed": 212,
     "status": "ok",
     "timestamp": 1738770777305,
     "user": {
      "displayName": "Bruja De Blair",
      "userId": "16687618477425926377"
     },
     "user_tz": -60
    },
    "id": "A5635OHmWBaW",
    "outputId": "c41ea152-f089-4a24-d385-8758cd280b9e"
   },
   "source": [
    "sm = SMOTE(random_state=42)\n",
    "#X_train_res, y_train_res = sm.fit_resample(X_train, y_train)\n",
    "X_train_selected_smote, y_train_selected_smote = sm.fit_resample(X_train_selected, y_train)\n",
    "\n",
    "print(\"Distribución original (train):\\n\", y_train.value_counts())\n",
    "print(\"Distribución re-muestreada (train):\\n\", y_train_selected_smote.value_counts())"
   ]
  },
  {
   "cell_type": "markdown",
   "metadata": {
    "colab": {
     "base_uri": "https://localhost:8080/",
     "height": 576
    },
    "execution": {
     "iopub.execute_input": "2025-04-21T12:23:41.245369Z",
     "iopub.status.busy": "2025-04-21T12:23:41.244543Z",
     "iopub.status.idle": "2025-04-21T12:23:41.351369Z",
     "shell.execute_reply": "2025-04-21T12:23:41.350700Z",
     "shell.execute_reply.started": "2025-04-21T12:23:41.245343Z"
    },
    "executionInfo": {
     "elapsed": 259,
     "status": "ok",
     "timestamp": 1738770780522,
     "user": {
      "displayName": "Bruja De Blair",
      "userId": "16687618477425926377"
     },
     "user_tz": -60
    },
    "id": "y3_MjwlxWZxK",
    "outputId": "886fb0e3-1171-4872-947a-5727dd184600"
   },
   "source": [
    "value_counts = y_train_selected_smote.value_counts()\n",
    "\n",
    "# Crear el gráfico de barras con los valores directamente de value_counts\n",
    "plt.figure(figsize=(8, 6))\n",
    "bars = plt.bar(value_counts.index, value_counts.values, color=['red', 'green', 'blue'])\n",
    "\n",
    "# Etiquetas y título\n",
    "plt.xlabel('Concedido', fontsize=16)\n",
    "plt.ylabel('Número de casos', fontsize=16)\n",
    "plt.title('Distribución de concesión de crédito', fontsize=16)\n",
    "\n",
    "# Añadir valores sobre las barras\n",
    "for bar in bars:\n",
    "    plt.text(bar.get_x() + bar.get_width() / 2,\n",
    "             bar.get_height() + 5,  # Un poco por encima de la barra\n",
    "             str(bar.get_height()),\n",
    "             ha='center', va='bottom',\n",
    "             fontsize=13, fontweight='bold')\n",
    "\n",
    "# Ajustar tamaño de los ticks\n",
    "plt.xticks(fontsize=12)\n",
    "plt.yticks(fontsize=12)\n",
    "\n",
    "# Mostrar el gráfico\n",
    "plt.show()"
   ]
  },
  {
   "cell_type": "markdown",
   "metadata": {
    "colab": {
     "base_uri": "https://localhost:8080/",
     "height": 300
    },
    "execution": {
     "iopub.execute_input": "2025-04-21T12:23:41.984375Z",
     "iopub.status.busy": "2025-04-21T12:23:41.983916Z",
     "iopub.status.idle": "2025-04-21T12:23:42.015672Z",
     "shell.execute_reply": "2025-04-21T12:23:42.014829Z",
     "shell.execute_reply.started": "2025-04-21T12:23:41.984347Z"
    },
    "executionInfo": {
     "elapsed": 211,
     "status": "ok",
     "timestamp": 1738770782780,
     "user": {
      "displayName": "Bruja De Blair",
      "userId": "16687618477425926377"
     },
     "user_tz": -60
    },
    "id": "te_4EWqhyfZb",
    "outputId": "4a4d1a41-b7b8-43ee-b4b0-1df86c86da04"
   },
   "source": [
    "X_train_selected.describe()"
   ]
  },
  {
   "cell_type": "markdown",
   "metadata": {
    "colab": {
     "base_uri": "https://localhost:8080/",
     "height": 300
    },
    "execution": {
     "iopub.execute_input": "2025-04-21T12:23:42.391456Z",
     "iopub.status.busy": "2025-04-21T12:23:42.390984Z",
     "iopub.status.idle": "2025-04-21T12:23:42.411821Z",
     "shell.execute_reply": "2025-04-21T12:23:42.409979Z",
     "shell.execute_reply.started": "2025-04-21T12:23:42.391426Z"
    },
    "executionInfo": {
     "elapsed": 203,
     "status": "ok",
     "timestamp": 1738770785012,
     "user": {
      "displayName": "Bruja De Blair",
      "userId": "16687618477425926377"
     },
     "user_tz": -60
    },
    "id": "GxveoHN5yjrf",
    "outputId": "32ff209f-217e-4fd8-f477-6b0ccf73eb83"
   },
   "source": [
    "X_train_selected_smote.describe()"
   ]
  },
  {
   "cell_type": "markdown",
   "metadata": {
    "id": "bAbjp7pNzVD5",
    "jp-MarkdownHeadingCollapsed": true
   },
   "source": [
    "# 8. Estandarización estándar de datos de Train y Test Para algunos modelos\n",
    "\n",
    "**Hay outliers en cuanto a área de bbox y RepetitionTime**, pero ese ruido lo vamos a disminuir aplicando StandardScaler antes de entrenar. Lo que hace StandardScaler es, para una característica $z_i$:\n",
    "\n",
    "$$ z_i = \\frac{x_i - \\mu}{\\sigma} $$\n",
    "donde:\n",
    "- $x_i$:  es el valor original de la i-ésima observación en una característica.\n",
    "- $\\mu$: es la media de esa característica.\n",
    "- $\\sigma$: es la desviación estándar de esa característica.\n",
    "\n",
    "De esta manera, la característica transformada $z_i$ tiene media 0 y desviación estándar 1.\n",
    "\n",
    "**NOTA: aplicaremos esta estandarización solamente a aquellos atributos que no sean probabilidades** "
   ]
  },
  {
   "cell_type": "code",
   "execution_count": null,
   "metadata": {
    "executionInfo": {
     "elapsed": 223,
     "status": "ok",
     "timestamp": 1738770805117,
     "user": {
      "displayName": "Bruja De Blair",
      "userId": "16687618477425926377"
     },
     "user_tz": -60
    },
    "id": "pLTnNtsezTeN"
   },
   "outputs": [],
   "source": [
    "# Seleccionar todas las columnas numéricas\n",
    "cols_numeric = X_train_selected.select_dtypes(include=['float64', 'int64']).columns\n",
    "\n",
    "# Excluir las columnas que no queremos escalar\n",
    "cols_to_scale = [col for col in cols_numeric if col not in ['confianza LV', 'confianza IC']]\n",
    "\n",
    "# Aplicar StandardScaler solo a las columnas seleccionadas\n",
    "scaler = StandardScaler()\n",
    "scaled_array = scaler.fit_transform(X_train_selected[cols_to_scale])\n",
    "\n",
    "# Crear un DataFrame con los datos escalados manteniendo el mismo índice y nombres de columnas\n",
    "X_scaled = pd.DataFrame(scaled_array, columns=cols_to_scale, index=X_train_selected.index)\n",
    "\n",
    "# Reemplazar las columnas originales por las escaladas\n",
    "#X_train_selected_smote[cols_to_scale] = X_scaled"
   ]
  },
  {
   "cell_type": "code",
   "execution_count": null,
   "metadata": {
    "colab": {
     "base_uri": "https://localhost:8080/",
     "height": 300
    },
    "executionInfo": {
     "elapsed": 186,
     "status": "ok",
     "timestamp": 1738770808199,
     "user": {
      "displayName": "Bruja De Blair",
      "userId": "16687618477425926377"
     },
     "user_tz": -60
    },
    "id": "Ukre4mYUzzdr",
    "outputId": "ac0ae2d0-1391-4a81-ba87-9a055b7745a9"
   },
   "outputs": [],
   "source": [
    "X_scaled.describe()"
   ]
  },
  {
   "cell_type": "markdown",
   "metadata": {
    "id": "cZXjWWXp1LHb"
   },
   "source": [
    "**Debemos almacenar el objeto `StandardScaler` (entrenado en los datos de train) para aplicarlo a futuros casos desconocidos.**"
   ]
  },
  {
   "cell_type": "code",
   "execution_count": null,
   "metadata": {
    "colab": {
     "base_uri": "https://localhost:8080/"
    },
    "executionInfo": {
     "elapsed": 210,
     "status": "ok",
     "timestamp": 1738771201252,
     "user": {
      "displayName": "Bruja De Blair",
      "userId": "16687618477425926377"
     },
     "user_tz": -60
    },
    "id": "T9ch9xx-1Vdg",
    "outputId": "b9804c84-3fb7-4702-9c98-f0902006016f"
   },
   "outputs": [],
   "source": [
    "joblib.dump(scaler, 'scaler.pkl')"
   ]
  },
  {
   "cell_type": "markdown",
   "metadata": {
    "id": "ozLpnHiR10Dw"
   },
   "source": [
    "Ahora, para asegurarnos que ha ido bien, lo cargamos y se lo aplicamos a las características de test:"
   ]
  },
  {
   "cell_type": "code",
   "execution_count": null,
   "metadata": {
    "executionInfo": {
     "elapsed": 211,
     "status": "ok",
     "timestamp": 1738771272214,
     "user": {
      "displayName": "Bruja De Blair",
      "userId": "16687618477425926377"
     },
     "user_tz": -60
    },
    "id": "EDSKQ2wC16uG"
   },
   "outputs": [],
   "source": [
    "# Carga el scaler\n",
    "loaded_scaler = joblib.load('scaler.pkl')"
   ]
  },
  {
   "cell_type": "code",
   "execution_count": null,
   "metadata": {},
   "outputs": [],
   "source": [
    "X_test_selected.info()"
   ]
  },
  {
   "cell_type": "code",
   "execution_count": null,
   "metadata": {
    "colab": {
     "base_uri": "https://localhost:8080/"
    },
    "executionInfo": {
     "elapsed": 206,
     "status": "ok",
     "timestamp": 1738771288097,
     "user": {
      "displayName": "Bruja De Blair",
      "userId": "16687618477425926377"
     },
     "user_tz": -60
    },
    "id": "kJ-MowQK1-fE",
    "outputId": "eb0b0ca0-af74-4c65-89de-9907b07528ff"
   },
   "outputs": [],
   "source": [
    "# Seleccionar todas las columnas numéricas de X_test\n",
    "X_test_num = X_test_selected.copy()  # O el DataFrame que estés utilizando\n",
    "\n",
    "# Lista de columnas que NO queremos escalar\n",
    "cols_excluir = ['confianza LV', 'confianza IC']\n",
    "\n",
    "# Crear una lista de las columnas numéricas a escalar, excluyendo las no deseadas\n",
    "cols_to_scale = [col for col in X_test_num.columns if col not in cols_excluir]\n",
    "\n",
    "# Extraer el subconjunto del DataFrame con las columnas a escalar\n",
    "X_test_num = X_test_num[cols_to_scale]\n",
    "\n",
    "# Transformar usando el scaler ya entrenado\n",
    "X_test_num_array = loaded_scaler.transform(X_test_num)\n",
    "\n",
    "# Convertir de nuevo a DataFrame para conservar índices y nombres de columnas\n",
    "X_test_num_scaled = pd.DataFrame(X_test_num_array, columns=cols_to_scale, index=X_test_num.index)"
   ]
  },
  {
   "cell_type": "code",
   "execution_count": null,
   "metadata": {
    "colab": {
     "base_uri": "https://localhost:8080/",
     "height": 300
    },
    "executionInfo": {
     "elapsed": 194,
     "status": "ok",
     "timestamp": 1738771326063,
     "user": {
      "displayName": "Bruja De Blair",
      "userId": "16687618477425926377"
     },
     "user_tz": -60
    },
    "id": "A25v2rl52MSK",
    "outputId": "7f5175e2-0077-45d6-fb8f-fee0b69ef9e9"
   },
   "outputs": [],
   "source": [
    "X_test_num_scaled.describe()"
   ]
  },
  {
   "cell_type": "markdown",
   "metadata": {
    "id": "Scw8WftWfb4z"
   },
   "source": [
    "# 9. Guardar datos preprocesados."
   ]
  },
  {
   "cell_type": "code",
   "execution_count": 17,
   "metadata": {
    "colab": {
     "base_uri": "https://localhost:8080/",
     "height": 206
    },
    "execution": {
     "iopub.execute_input": "2025-06-08T12:41:02.950061Z",
     "iopub.status.busy": "2025-06-08T12:41:02.949537Z",
     "iopub.status.idle": "2025-06-08T12:41:02.960623Z",
     "shell.execute_reply": "2025-06-08T12:41:02.959817Z",
     "shell.execute_reply.started": "2025-06-08T12:41:02.950035Z"
    },
    "executionInfo": {
     "elapsed": 215,
     "status": "ok",
     "timestamp": 1738771371462,
     "user": {
      "displayName": "Bruja De Blair",
      "userId": "16687618477425926377"
     },
     "user_tz": -60
    },
    "id": "MylAHg5CgCqx",
    "outputId": "9ad98501-e2e0-4920-af01-b571652ba324"
   },
   "outputs": [
    {
     "data": {
      "text/html": [
       "<div>\n",
       "<style scoped>\n",
       "    .dataframe tbody tr th:only-of-type {\n",
       "        vertical-align: middle;\n",
       "    }\n",
       "\n",
       "    .dataframe tbody tr th {\n",
       "        vertical-align: top;\n",
       "    }\n",
       "\n",
       "    .dataframe thead th {\n",
       "        text-align: right;\n",
       "    }\n",
       "</style>\n",
       "<table border=\"1\" class=\"dataframe\">\n",
       "  <thead>\n",
       "    <tr style=\"text-align: right;\">\n",
       "      <th></th>\n",
       "      <th>num_slice</th>\n",
       "      <th>confianza LV</th>\n",
       "      <th>area bbox LV</th>\n",
       "      <th>confianza IC</th>\n",
       "      <th>area bbox IC</th>\n",
       "      <th>calidad</th>\n",
       "    </tr>\n",
       "  </thead>\n",
       "  <tbody>\n",
       "    <tr>\n",
       "      <th>2899</th>\n",
       "      <td>4</td>\n",
       "      <td>0.75173</td>\n",
       "      <td>24785</td>\n",
       "      <td>0.69479</td>\n",
       "      <td>14388</td>\n",
       "      <td>media</td>\n",
       "    </tr>\n",
       "    <tr>\n",
       "      <th>2785</th>\n",
       "      <td>1</td>\n",
       "      <td>0.43567</td>\n",
       "      <td>18826</td>\n",
       "      <td>0.38825</td>\n",
       "      <td>8386</td>\n",
       "      <td>mala</td>\n",
       "    </tr>\n",
       "    <tr>\n",
       "      <th>2747</th>\n",
       "      <td>6</td>\n",
       "      <td>0.89355</td>\n",
       "      <td>29634</td>\n",
       "      <td>0.92248</td>\n",
       "      <td>18827</td>\n",
       "      <td>buena</td>\n",
       "    </tr>\n",
       "    <tr>\n",
       "      <th>1760</th>\n",
       "      <td>2</td>\n",
       "      <td>0.84642</td>\n",
       "      <td>32703</td>\n",
       "      <td>0.85547</td>\n",
       "      <td>21353</td>\n",
       "      <td>buena</td>\n",
       "    </tr>\n",
       "    <tr>\n",
       "      <th>3358</th>\n",
       "      <td>7</td>\n",
       "      <td>0.56057</td>\n",
       "      <td>16221</td>\n",
       "      <td>0.56743</td>\n",
       "      <td>6500</td>\n",
       "      <td>mala</td>\n",
       "    </tr>\n",
       "  </tbody>\n",
       "</table>\n",
       "</div>"
      ],
      "text/plain": [
       "      num_slice  confianza LV  area bbox LV  confianza IC  area bbox IC  \\\n",
       "2899          4       0.75173         24785       0.69479         14388   \n",
       "2785          1       0.43567         18826       0.38825          8386   \n",
       "2747          6       0.89355         29634       0.92248         18827   \n",
       "1760          2       0.84642         32703       0.85547         21353   \n",
       "3358          7       0.56057         16221       0.56743          6500   \n",
       "\n",
       "     calidad  \n",
       "2899   media  \n",
       "2785    mala  \n",
       "2747   buena  \n",
       "1760   buena  \n",
       "3358    mala  "
      ]
     },
     "execution_count": 17,
     "metadata": {},
     "output_type": "execute_result"
    }
   ],
   "source": [
    "df_train = pd.concat([X_train_selected, y_train], axis=1)\n",
    "df_train.head()"
   ]
  },
  {
   "cell_type": "code",
   "execution_count": 18,
   "metadata": {
    "execution": {
     "iopub.execute_input": "2025-06-08T12:41:03.424753Z",
     "iopub.status.busy": "2025-06-08T12:41:03.423915Z",
     "iopub.status.idle": "2025-06-08T12:41:03.448170Z",
     "shell.execute_reply": "2025-06-08T12:41:03.447372Z",
     "shell.execute_reply.started": "2025-06-08T12:41:03.424716Z"
    },
    "executionInfo": {
     "elapsed": 605,
     "status": "ok",
     "timestamp": 1738771379999,
     "user": {
      "displayName": "Bruja De Blair",
      "userId": "16687618477425926377"
     },
     "user_tz": -60
    },
    "id": "IGgnXbOhgLJ1"
   },
   "outputs": [],
   "source": [
    "df_train.to_csv('../datos/df_train.csv', index=False)"
   ]
  },
  {
   "cell_type": "code",
   "execution_count": 19,
   "metadata": {
    "colab": {
     "base_uri": "https://localhost:8080/",
     "height": 206
    },
    "execution": {
     "iopub.execute_input": "2025-06-08T12:41:03.841029Z",
     "iopub.status.busy": "2025-06-08T12:41:03.840206Z",
     "iopub.status.idle": "2025-06-08T12:41:03.851884Z",
     "shell.execute_reply": "2025-06-08T12:41:03.851045Z",
     "shell.execute_reply.started": "2025-06-08T12:41:03.840987Z"
    },
    "executionInfo": {
     "elapsed": 215,
     "status": "ok",
     "timestamp": 1738771382778,
     "user": {
      "displayName": "Bruja De Blair",
      "userId": "16687618477425926377"
     },
     "user_tz": -60
    },
    "id": "yRUT5gwkgWVo",
    "outputId": "af332eb2-043b-4921-a926-28a82eb7dadf"
   },
   "outputs": [
    {
     "data": {
      "text/html": [
       "<div>\n",
       "<style scoped>\n",
       "    .dataframe tbody tr th:only-of-type {\n",
       "        vertical-align: middle;\n",
       "    }\n",
       "\n",
       "    .dataframe tbody tr th {\n",
       "        vertical-align: top;\n",
       "    }\n",
       "\n",
       "    .dataframe thead th {\n",
       "        text-align: right;\n",
       "    }\n",
       "</style>\n",
       "<table border=\"1\" class=\"dataframe\">\n",
       "  <thead>\n",
       "    <tr style=\"text-align: right;\">\n",
       "      <th></th>\n",
       "      <th>num_slice</th>\n",
       "      <th>confianza LV</th>\n",
       "      <th>area bbox LV</th>\n",
       "      <th>confianza IC</th>\n",
       "      <th>area bbox IC</th>\n",
       "      <th>calidad</th>\n",
       "    </tr>\n",
       "  </thead>\n",
       "  <tbody>\n",
       "    <tr>\n",
       "      <th>631</th>\n",
       "      <td>2</td>\n",
       "      <td>0.45833</td>\n",
       "      <td>23112</td>\n",
       "      <td>0.50968</td>\n",
       "      <td>12396</td>\n",
       "      <td>mala</td>\n",
       "    </tr>\n",
       "    <tr>\n",
       "      <th>1020</th>\n",
       "      <td>2</td>\n",
       "      <td>0.93172</td>\n",
       "      <td>25829</td>\n",
       "      <td>0.68261</td>\n",
       "      <td>15236</td>\n",
       "      <td>media</td>\n",
       "    </tr>\n",
       "    <tr>\n",
       "      <th>1149</th>\n",
       "      <td>3</td>\n",
       "      <td>0.63025</td>\n",
       "      <td>23289</td>\n",
       "      <td>0.51440</td>\n",
       "      <td>12963</td>\n",
       "      <td>media</td>\n",
       "    </tr>\n",
       "    <tr>\n",
       "      <th>710</th>\n",
       "      <td>7</td>\n",
       "      <td>0.77134</td>\n",
       "      <td>17793</td>\n",
       "      <td>0.87805</td>\n",
       "      <td>8515</td>\n",
       "      <td>buena</td>\n",
       "    </tr>\n",
       "    <tr>\n",
       "      <th>3228</th>\n",
       "      <td>11</td>\n",
       "      <td>0.60754</td>\n",
       "      <td>21690</td>\n",
       "      <td>0.70104</td>\n",
       "      <td>11054</td>\n",
       "      <td>mala</td>\n",
       "    </tr>\n",
       "  </tbody>\n",
       "</table>\n",
       "</div>"
      ],
      "text/plain": [
       "      num_slice  confianza LV  area bbox LV  confianza IC  area bbox IC  \\\n",
       "631           2       0.45833         23112       0.50968         12396   \n",
       "1020          2       0.93172         25829       0.68261         15236   \n",
       "1149          3       0.63025         23289       0.51440         12963   \n",
       "710           7       0.77134         17793       0.87805          8515   \n",
       "3228         11       0.60754         21690       0.70104         11054   \n",
       "\n",
       "     calidad  \n",
       "631     mala  \n",
       "1020   media  \n",
       "1149   media  \n",
       "710    buena  \n",
       "3228    mala  "
      ]
     },
     "execution_count": 19,
     "metadata": {},
     "output_type": "execute_result"
    }
   ],
   "source": [
    "df_test = pd.concat([X_test_selected, y_test], axis=1)\n",
    "df_test.head()"
   ]
  },
  {
   "cell_type": "code",
   "execution_count": 20,
   "metadata": {
    "execution": {
     "iopub.execute_input": "2025-06-08T12:41:04.240390Z",
     "iopub.status.busy": "2025-06-08T12:41:04.239822Z",
     "iopub.status.idle": "2025-06-08T12:41:04.251328Z",
     "shell.execute_reply": "2025-06-08T12:41:04.250423Z",
     "shell.execute_reply.started": "2025-06-08T12:41:04.240357Z"
    },
    "executionInfo": {
     "elapsed": 424,
     "status": "ok",
     "timestamp": 1738771390530,
     "user": {
      "displayName": "Bruja De Blair",
      "userId": "16687618477425926377"
     },
     "user_tz": -60
    },
    "id": "kgKUGSwJg7fV"
   },
   "outputs": [],
   "source": [
    "df_test.to_csv('../datos/df_test.csv', index=False)"
   ]
  },
  {
   "cell_type": "code",
   "execution_count": null,
   "metadata": {},
   "outputs": [],
   "source": []
  },
  {
   "cell_type": "code",
   "execution_count": null,
   "metadata": {},
   "outputs": [],
   "source": []
  }
 ],
 "metadata": {
  "colab": {
   "authorship_tag": "ABX9TyMevBJZhFCv394BY/O9uGuP",
   "mount_file_id": "1I-38hs76z2HjZPZSsQVCXIbdWf5ZtrvU",
   "provenance": []
  },
  "kernelspec": {
   "display_name": "Python 3 (ipykernel)",
   "language": "python",
   "name": "python3"
  },
  "language_info": {
   "codemirror_mode": {
    "name": "ipython",
    "version": 3
   },
   "file_extension": ".py",
   "mimetype": "text/x-python",
   "name": "python",
   "nbconvert_exporter": "python",
   "pygments_lexer": "ipython3",
   "version": "3.10.8"
  }
 },
 "nbformat": 4,
 "nbformat_minor": 4
}
