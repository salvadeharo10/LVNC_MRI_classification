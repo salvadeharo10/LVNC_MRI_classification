{
  "cells": [
    {
      "cell_type": "code",
      "execution_count": null,
      "metadata": {
        "execution": {
          "iopub.execute_input": "2025-06-12T19:07:45.045036Z",
          "iopub.status.busy": "2025-06-12T19:07:45.044621Z",
          "iopub.status.idle": "2025-06-12T19:07:46.708968Z",
          "shell.execute_reply": "2025-06-12T19:07:46.708145Z",
          "shell.execute_reply.started": "2025-06-12T19:07:45.044999Z"
        },
        "id": "vcv_4Kvm7cU_"
      },
      "outputs": [],
      "source": [
        "import pandas as pd\n",
        "import numpy as np\n",
        "\n",
        "# Para preprocesamiento y modelado\n",
        "from sklearn.model_selection import train_test_split, RandomizedSearchCV, GridSearchCV, StratifiedKFold, learning_curve\n",
        "from sklearn.preprocessing import OneHotEncoder, StandardScaler\n",
        "from sklearn.compose import ColumnTransformer\n",
        "from sklearn.pipeline import Pipeline\n",
        "from sklearn.feature_selection import SelectFromModel\n",
        "\n",
        "# Modelos\n",
        "from sklearn.ensemble import RandomForestClassifier, HistGradientBoostingClassifier, StackingClassifier\n",
        "from sklearn.svm import SVC\n",
        "from sklearn.neural_network import MLPClassifier\n",
        "\n",
        "# Métricas\n",
        "from sklearn.metrics import classification_report, confusion_matrix, f1_score, roc_auc_score, roc_curve, auc\n",
        "\n",
        "import matplotlib.pyplot as plt\n",
        "import seaborn as sns\n",
        "import joblib\n",
        "\n",
        "pd.set_option('display.float_format', lambda x: '%.5f' % x)"
      ]
    },
    {
      "cell_type": "markdown",
      "metadata": {
        "id": "e0DWqnbC75Zk"
      },
      "source": [
        "# 1. Carga de datos de train y test"
      ]
    },
    {
      "cell_type": "code",
      "execution_count": null,
      "metadata": {
        "execution": {
          "iopub.execute_input": "2025-06-12T19:07:47.921189Z",
          "iopub.status.busy": "2025-06-12T19:07:47.920798Z",
          "iopub.status.idle": "2025-06-12T19:07:47.984447Z",
          "shell.execute_reply": "2025-06-12T19:07:47.983745Z",
          "shell.execute_reply.started": "2025-06-12T19:07:47.921166Z"
        },
        "id": "HjlkP5bM7978"
      },
      "outputs": [],
      "source": [
        "df_train = pd.read_csv('../data/df_train.csv')\n",
        "df_test = pd.read_csv('../data/df_test.csv')"
      ]
    },
    {
      "cell_type": "code",
      "execution_count": null,
      "metadata": {
        "colab": {
          "base_uri": "https://localhost:8080/",
          "height": 223
        },
        "execution": {
          "iopub.execute_input": "2025-06-12T19:07:49.683509Z",
          "iopub.status.busy": "2025-06-12T19:07:49.683189Z",
          "iopub.status.idle": "2025-06-12T19:07:49.701058Z",
          "shell.execute_reply": "2025-06-12T19:07:49.699524Z",
          "shell.execute_reply.started": "2025-06-12T19:07:49.683485Z"
        },
        "id": "ZxUvxGWg8QUz",
        "outputId": "e9d7dbf0-1721-42c9-9dcf-010781f45b75"
      },
      "outputs": [
        {
          "data": {
            "text/html": [
              "<div>\n",
              "<style scoped>\n",
              "    .dataframe tbody tr th:only-of-type {\n",
              "        vertical-align: middle;\n",
              "    }\n",
              "\n",
              "    .dataframe tbody tr th {\n",
              "        vertical-align: top;\n",
              "    }\n",
              "\n",
              "    .dataframe thead th {\n",
              "        text-align: right;\n",
              "    }\n",
              "</style>\n",
              "<table border=\"1\" class=\"dataframe\">\n",
              "  <thead>\n",
              "    <tr style=\"text-align: right;\">\n",
              "      <th></th>\n",
              "      <th>num_slice</th>\n",
              "      <th>confianza LV</th>\n",
              "      <th>area bbox LV</th>\n",
              "      <th>confianza IC</th>\n",
              "      <th>area bbox IC</th>\n",
              "      <th>calidad</th>\n",
              "    </tr>\n",
              "  </thead>\n",
              "  <tbody>\n",
              "    <tr>\n",
              "      <th>0</th>\n",
              "      <td>4</td>\n",
              "      <td>0.75173</td>\n",
              "      <td>24785</td>\n",
              "      <td>0.69479</td>\n",
              "      <td>14388</td>\n",
              "      <td>media</td>\n",
              "    </tr>\n",
              "    <tr>\n",
              "      <th>1</th>\n",
              "      <td>1</td>\n",
              "      <td>0.43567</td>\n",
              "      <td>18826</td>\n",
              "      <td>0.38825</td>\n",
              "      <td>8386</td>\n",
              "      <td>mala</td>\n",
              "    </tr>\n",
              "    <tr>\n",
              "      <th>2</th>\n",
              "      <td>6</td>\n",
              "      <td>0.89355</td>\n",
              "      <td>29634</td>\n",
              "      <td>0.92248</td>\n",
              "      <td>18827</td>\n",
              "      <td>buena</td>\n",
              "    </tr>\n",
              "    <tr>\n",
              "      <th>3</th>\n",
              "      <td>2</td>\n",
              "      <td>0.84642</td>\n",
              "      <td>32703</td>\n",
              "      <td>0.85547</td>\n",
              "      <td>21353</td>\n",
              "      <td>buena</td>\n",
              "    </tr>\n",
              "    <tr>\n",
              "      <th>4</th>\n",
              "      <td>7</td>\n",
              "      <td>0.56057</td>\n",
              "      <td>16221</td>\n",
              "      <td>0.56743</td>\n",
              "      <td>6500</td>\n",
              "      <td>mala</td>\n",
              "    </tr>\n",
              "  </tbody>\n",
              "</table>\n",
              "</div>"
            ],
            "text/plain": [
              "   num_slice  confianza LV  area bbox LV  confianza IC  area bbox IC calidad\n",
              "0          4       0.75173         24785       0.69479         14388   media\n",
              "1          1       0.43567         18826       0.38825          8386    mala\n",
              "2          6       0.89355         29634       0.92248         18827   buena\n",
              "3          2       0.84642         32703       0.85547         21353   buena\n",
              "4          7       0.56057         16221       0.56743          6500    mala"
            ]
          },
          "execution_count": 3,
          "metadata": {},
          "output_type": "execute_result"
        }
      ],
      "source": [
        "df_train.head()"
      ]
    },
    {
      "cell_type": "code",
      "execution_count": null,
      "metadata": {
        "execution": {
          "iopub.execute_input": "2025-06-12T19:07:50.330903Z",
          "iopub.status.busy": "2025-06-12T19:07:50.330446Z",
          "iopub.status.idle": "2025-06-12T19:07:50.359529Z",
          "shell.execute_reply": "2025-06-12T19:07:50.358819Z",
          "shell.execute_reply.started": "2025-06-12T19:07:50.330875Z"
        },
        "id": "QAuyOYbXReas",
        "outputId": "d1b93da1-ae6d-4d4a-fa00-c2a7c4ba767f"
      },
      "outputs": [
        {
          "name": "stdout",
          "output_type": "stream",
          "text": [
            "<class 'pandas.core.frame.DataFrame'>\n",
            "RangeIndex: 2767 entries, 0 to 2766\n",
            "Data columns (total 6 columns):\n",
            " #   Column        Non-Null Count  Dtype  \n",
            "---  ------        --------------  -----  \n",
            " 0   num_slice     2767 non-null   int64  \n",
            " 1   confianza LV  2767 non-null   float64\n",
            " 2   area bbox LV  2767 non-null   int64  \n",
            " 3   confianza IC  2767 non-null   float64\n",
            " 4   area bbox IC  2767 non-null   int64  \n",
            " 5   calidad       2767 non-null   object \n",
            "dtypes: float64(2), int64(3), object(1)\n",
            "memory usage: 129.8+ KB\n"
          ]
        }
      ],
      "source": [
        "df_train.info()"
      ]
    },
    {
      "cell_type": "code",
      "execution_count": null,
      "metadata": {
        "execution": {
          "iopub.execute_input": "2025-06-12T19:07:50.972916Z",
          "iopub.status.busy": "2025-06-12T19:07:50.972651Z",
          "iopub.status.idle": "2025-06-12T19:07:50.979961Z",
          "shell.execute_reply": "2025-06-12T19:07:50.978587Z",
          "shell.execute_reply.started": "2025-06-12T19:07:50.972895Z"
        },
        "id": "shB4ZImoReas",
        "outputId": "73e022c6-1c64-4c91-ac0d-77bdf62525d7"
      },
      "outputs": [
        {
          "data": {
            "text/plain": [
              "calidad\n",
              "media    1077\n",
              "mala      885\n",
              "buena     805\n",
              "Name: count, dtype: int64"
            ]
          },
          "execution_count": 5,
          "metadata": {},
          "output_type": "execute_result"
        }
      ],
      "source": [
        "df_train['calidad'].value_counts()"
      ]
    },
    {
      "cell_type": "code",
      "execution_count": null,
      "metadata": {
        "execution": {
          "iopub.execute_input": "2025-06-12T19:07:51.421024Z",
          "iopub.status.busy": "2025-06-12T19:07:51.420575Z",
          "iopub.status.idle": "2025-06-12T19:07:51.427208Z",
          "shell.execute_reply": "2025-06-12T19:07:51.426512Z",
          "shell.execute_reply.started": "2025-06-12T19:07:51.420999Z"
        },
        "id": "KPi-BXcGReat",
        "outputId": "4285482d-8ce1-41e4-d4d6-ae150a53d30c"
      },
      "outputs": [
        {
          "data": {
            "text/plain": [
              "calidad\n",
              "media    270\n",
              "mala     221\n",
              "buena    201\n",
              "Name: count, dtype: int64"
            ]
          },
          "execution_count": 6,
          "metadata": {},
          "output_type": "execute_result"
        }
      ],
      "source": [
        "df_test['calidad'].value_counts()"
      ]
    },
    {
      "cell_type": "code",
      "execution_count": null,
      "metadata": {
        "colab": {
          "base_uri": "https://localhost:8080/",
          "height": 223
        },
        "execution": {
          "iopub.execute_input": "2025-06-12T19:07:51.951811Z",
          "iopub.status.busy": "2025-06-12T19:07:51.951095Z",
          "iopub.status.idle": "2025-06-12T19:07:51.959393Z",
          "shell.execute_reply": "2025-06-12T19:07:51.958442Z",
          "shell.execute_reply.started": "2025-06-12T19:07:51.951784Z"
        },
        "id": "k8dHgvsA8TJM",
        "outputId": "39135540-d4b4-46f2-86ba-eee449e24a73"
      },
      "outputs": [
        {
          "data": {
            "text/html": [
              "<div>\n",
              "<style scoped>\n",
              "    .dataframe tbody tr th:only-of-type {\n",
              "        vertical-align: middle;\n",
              "    }\n",
              "\n",
              "    .dataframe tbody tr th {\n",
              "        vertical-align: top;\n",
              "    }\n",
              "\n",
              "    .dataframe thead th {\n",
              "        text-align: right;\n",
              "    }\n",
              "</style>\n",
              "<table border=\"1\" class=\"dataframe\">\n",
              "  <thead>\n",
              "    <tr style=\"text-align: right;\">\n",
              "      <th></th>\n",
              "      <th>num_slice</th>\n",
              "      <th>confianza LV</th>\n",
              "      <th>area bbox LV</th>\n",
              "      <th>confianza IC</th>\n",
              "      <th>area bbox IC</th>\n",
              "      <th>calidad</th>\n",
              "    </tr>\n",
              "  </thead>\n",
              "  <tbody>\n",
              "    <tr>\n",
              "      <th>0</th>\n",
              "      <td>2</td>\n",
              "      <td>0.45833</td>\n",
              "      <td>23112</td>\n",
              "      <td>0.50968</td>\n",
              "      <td>12396</td>\n",
              "      <td>mala</td>\n",
              "    </tr>\n",
              "    <tr>\n",
              "      <th>1</th>\n",
              "      <td>2</td>\n",
              "      <td>0.93172</td>\n",
              "      <td>25829</td>\n",
              "      <td>0.68261</td>\n",
              "      <td>15236</td>\n",
              "      <td>media</td>\n",
              "    </tr>\n",
              "    <tr>\n",
              "      <th>2</th>\n",
              "      <td>3</td>\n",
              "      <td>0.63025</td>\n",
              "      <td>23289</td>\n",
              "      <td>0.51440</td>\n",
              "      <td>12963</td>\n",
              "      <td>media</td>\n",
              "    </tr>\n",
              "    <tr>\n",
              "      <th>3</th>\n",
              "      <td>7</td>\n",
              "      <td>0.77134</td>\n",
              "      <td>17793</td>\n",
              "      <td>0.87805</td>\n",
              "      <td>8515</td>\n",
              "      <td>buena</td>\n",
              "    </tr>\n",
              "    <tr>\n",
              "      <th>4</th>\n",
              "      <td>11</td>\n",
              "      <td>0.60754</td>\n",
              "      <td>21690</td>\n",
              "      <td>0.70104</td>\n",
              "      <td>11054</td>\n",
              "      <td>mala</td>\n",
              "    </tr>\n",
              "  </tbody>\n",
              "</table>\n",
              "</div>"
            ],
            "text/plain": [
              "   num_slice  confianza LV  area bbox LV  confianza IC  area bbox IC calidad\n",
              "0          2       0.45833         23112       0.50968         12396    mala\n",
              "1          2       0.93172         25829       0.68261         15236   media\n",
              "2          3       0.63025         23289       0.51440         12963   media\n",
              "3          7       0.77134         17793       0.87805          8515   buena\n",
              "4         11       0.60754         21690       0.70104         11054    mala"
            ]
          },
          "execution_count": 7,
          "metadata": {},
          "output_type": "execute_result"
        }
      ],
      "source": [
        "df_test.head()"
      ]
    },
    {
      "cell_type": "code",
      "execution_count": null,
      "metadata": {
        "execution": {
          "iopub.execute_input": "2025-06-12T19:07:56.463925Z",
          "iopub.status.busy": "2025-06-12T19:07:56.463104Z",
          "iopub.status.idle": "2025-06-12T19:07:56.483733Z",
          "shell.execute_reply": "2025-06-12T19:07:56.482800Z",
          "shell.execute_reply.started": "2025-06-12T19:07:56.463897Z"
        },
        "id": "El5OcVyeReat",
        "outputId": "e14b5735-bbcc-4244-8436-4e244354f1ad"
      },
      "outputs": [
        {
          "data": {
            "text/html": [
              "<div>\n",
              "<style scoped>\n",
              "    .dataframe tbody tr th:only-of-type {\n",
              "        vertical-align: middle;\n",
              "    }\n",
              "\n",
              "    .dataframe tbody tr th {\n",
              "        vertical-align: top;\n",
              "    }\n",
              "\n",
              "    .dataframe thead th {\n",
              "        text-align: right;\n",
              "    }\n",
              "</style>\n",
              "<table border=\"1\" class=\"dataframe\">\n",
              "  <thead>\n",
              "    <tr style=\"text-align: right;\">\n",
              "      <th></th>\n",
              "      <th>num_slice</th>\n",
              "      <th>confianza LV</th>\n",
              "      <th>area bbox LV</th>\n",
              "      <th>confianza IC</th>\n",
              "      <th>area bbox IC</th>\n",
              "    </tr>\n",
              "  </thead>\n",
              "  <tbody>\n",
              "    <tr>\n",
              "      <th>count</th>\n",
              "      <td>2767.00000</td>\n",
              "      <td>2767.00000</td>\n",
              "      <td>2767.00000</td>\n",
              "      <td>2767.00000</td>\n",
              "      <td>2767.00000</td>\n",
              "    </tr>\n",
              "    <tr>\n",
              "      <th>mean</th>\n",
              "      <td>5.70220</td>\n",
              "      <td>0.73680</td>\n",
              "      <td>22636.32707</td>\n",
              "      <td>0.69171</td>\n",
              "      <td>12590.18359</td>\n",
              "    </tr>\n",
              "    <tr>\n",
              "      <th>std</th>\n",
              "      <td>2.72602</td>\n",
              "      <td>0.19318</td>\n",
              "      <td>5102.63339</td>\n",
              "      <td>0.20202</td>\n",
              "      <td>4102.92255</td>\n",
              "    </tr>\n",
              "    <tr>\n",
              "      <th>min</th>\n",
              "      <td>1.00000</td>\n",
              "      <td>0.00000</td>\n",
              "      <td>0.00000</td>\n",
              "      <td>0.00000</td>\n",
              "      <td>0.00000</td>\n",
              "    </tr>\n",
              "    <tr>\n",
              "      <th>25%</th>\n",
              "      <td>4.00000</td>\n",
              "      <td>0.61053</td>\n",
              "      <td>19949.50000</td>\n",
              "      <td>0.55736</td>\n",
              "      <td>10109.00000</td>\n",
              "    </tr>\n",
              "    <tr>\n",
              "      <th>50%</th>\n",
              "      <td>6.00000</td>\n",
              "      <td>0.78097</td>\n",
              "      <td>22948.00000</td>\n",
              "      <td>0.71560</td>\n",
              "      <td>12778.00000</td>\n",
              "    </tr>\n",
              "    <tr>\n",
              "      <th>75%</th>\n",
              "      <td>8.00000</td>\n",
              "      <td>0.89207</td>\n",
              "      <td>25768.00000</td>\n",
              "      <td>0.86388</td>\n",
              "      <td>15290.00000</td>\n",
              "    </tr>\n",
              "    <tr>\n",
              "      <th>max</th>\n",
              "      <td>15.00000</td>\n",
              "      <td>1.00000</td>\n",
              "      <td>40432.00000</td>\n",
              "      <td>1.00000</td>\n",
              "      <td>28113.00000</td>\n",
              "    </tr>\n",
              "  </tbody>\n",
              "</table>\n",
              "</div>"
            ],
            "text/plain": [
              "       num_slice  confianza LV  area bbox LV  confianza IC  area bbox IC\n",
              "count 2767.00000    2767.00000    2767.00000    2767.00000    2767.00000\n",
              "mean     5.70220       0.73680   22636.32707       0.69171   12590.18359\n",
              "std      2.72602       0.19318    5102.63339       0.20202    4102.92255\n",
              "min      1.00000       0.00000       0.00000       0.00000       0.00000\n",
              "25%      4.00000       0.61053   19949.50000       0.55736   10109.00000\n",
              "50%      6.00000       0.78097   22948.00000       0.71560   12778.00000\n",
              "75%      8.00000       0.89207   25768.00000       0.86388   15290.00000\n",
              "max     15.00000       1.00000   40432.00000       1.00000   28113.00000"
            ]
          },
          "execution_count": 8,
          "metadata": {},
          "output_type": "execute_result"
        }
      ],
      "source": [
        "df_train.describe()"
      ]
    },
    {
      "cell_type": "code",
      "execution_count": null,
      "metadata": {
        "execution": {
          "iopub.execute_input": "2025-06-12T19:08:01.196578Z",
          "iopub.status.busy": "2025-06-12T19:08:01.196038Z",
          "iopub.status.idle": "2025-06-12T19:08:01.211742Z",
          "shell.execute_reply": "2025-06-12T19:08:01.210678Z",
          "shell.execute_reply.started": "2025-06-12T19:08:01.196553Z"
        },
        "id": "8AFzPO7xReau",
        "outputId": "80c4c44e-f08d-42b7-ef5f-d5b0e025bb63"
      },
      "outputs": [
        {
          "data": {
            "text/html": [
              "<div>\n",
              "<style scoped>\n",
              "    .dataframe tbody tr th:only-of-type {\n",
              "        vertical-align: middle;\n",
              "    }\n",
              "\n",
              "    .dataframe tbody tr th {\n",
              "        vertical-align: top;\n",
              "    }\n",
              "\n",
              "    .dataframe thead th {\n",
              "        text-align: right;\n",
              "    }\n",
              "</style>\n",
              "<table border=\"1\" class=\"dataframe\">\n",
              "  <thead>\n",
              "    <tr style=\"text-align: right;\">\n",
              "      <th></th>\n",
              "      <th>num_slice</th>\n",
              "      <th>confianza LV</th>\n",
              "      <th>area bbox LV</th>\n",
              "      <th>confianza IC</th>\n",
              "      <th>area bbox IC</th>\n",
              "    </tr>\n",
              "  </thead>\n",
              "  <tbody>\n",
              "    <tr>\n",
              "      <th>count</th>\n",
              "      <td>692.00000</td>\n",
              "      <td>692.00000</td>\n",
              "      <td>692.00000</td>\n",
              "      <td>692.00000</td>\n",
              "      <td>692.00000</td>\n",
              "    </tr>\n",
              "    <tr>\n",
              "      <th>mean</th>\n",
              "      <td>5.57659</td>\n",
              "      <td>0.73511</td>\n",
              "      <td>22856.30925</td>\n",
              "      <td>0.69494</td>\n",
              "      <td>12751.41185</td>\n",
              "    </tr>\n",
              "    <tr>\n",
              "      <th>std</th>\n",
              "      <td>2.77547</td>\n",
              "      <td>0.18887</td>\n",
              "      <td>4864.03904</td>\n",
              "      <td>0.19492</td>\n",
              "      <td>4006.60433</td>\n",
              "    </tr>\n",
              "    <tr>\n",
              "      <th>min</th>\n",
              "      <td>1.00000</td>\n",
              "      <td>0.00000</td>\n",
              "      <td>0.00000</td>\n",
              "      <td>0.00000</td>\n",
              "      <td>0.00000</td>\n",
              "    </tr>\n",
              "    <tr>\n",
              "      <th>25%</th>\n",
              "      <td>3.00000</td>\n",
              "      <td>0.60086</td>\n",
              "      <td>20014.75000</td>\n",
              "      <td>0.55348</td>\n",
              "      <td>10180.25000</td>\n",
              "    </tr>\n",
              "    <tr>\n",
              "      <th>50%</th>\n",
              "      <td>6.00000</td>\n",
              "      <td>0.77801</td>\n",
              "      <td>22980.50000</td>\n",
              "      <td>0.72556</td>\n",
              "      <td>12775.50000</td>\n",
              "    </tr>\n",
              "    <tr>\n",
              "      <th>75%</th>\n",
              "      <td>7.25000</td>\n",
              "      <td>0.88446</td>\n",
              "      <td>25816.25000</td>\n",
              "      <td>0.86624</td>\n",
              "      <td>15299.75000</td>\n",
              "    </tr>\n",
              "    <tr>\n",
              "      <th>max</th>\n",
              "      <td>14.00000</td>\n",
              "      <td>1.00000</td>\n",
              "      <td>36594.00000</td>\n",
              "      <td>1.00000</td>\n",
              "      <td>24531.00000</td>\n",
              "    </tr>\n",
              "  </tbody>\n",
              "</table>\n",
              "</div>"
            ],
            "text/plain": [
              "       num_slice  confianza LV  area bbox LV  confianza IC  area bbox IC\n",
              "count  692.00000     692.00000     692.00000     692.00000     692.00000\n",
              "mean     5.57659       0.73511   22856.30925       0.69494   12751.41185\n",
              "std      2.77547       0.18887    4864.03904       0.19492    4006.60433\n",
              "min      1.00000       0.00000       0.00000       0.00000       0.00000\n",
              "25%      3.00000       0.60086   20014.75000       0.55348   10180.25000\n",
              "50%      6.00000       0.77801   22980.50000       0.72556   12775.50000\n",
              "75%      7.25000       0.88446   25816.25000       0.86624   15299.75000\n",
              "max     14.00000       1.00000   36594.00000       1.00000   24531.00000"
            ]
          },
          "execution_count": 9,
          "metadata": {},
          "output_type": "execute_result"
        }
      ],
      "source": [
        "df_test.describe()"
      ]
    },
    {
      "cell_type": "code",
      "execution_count": null,
      "metadata": {
        "execution": {
          "iopub.execute_input": "2025-06-12T19:08:01.930235Z",
          "iopub.status.busy": "2025-06-12T19:08:01.929826Z",
          "iopub.status.idle": "2025-06-12T19:08:01.936630Z",
          "shell.execute_reply": "2025-06-12T19:08:01.935524Z",
          "shell.execute_reply.started": "2025-06-12T19:08:01.930211Z"
        },
        "id": "DksU9qx59SGM"
      },
      "outputs": [],
      "source": [
        "X_train = df_train.drop('calidad', axis=1)\n",
        "y_train = df_train['calidad']\n",
        "\n",
        "X_test = df_test.drop('calidad', axis=1)\n",
        "y_test = df_test['calidad']"
      ]
    },
    {
      "cell_type": "markdown",
      "metadata": {
        "id": "TA9UGqK68WSz"
      },
      "source": [
        "# 2. Definición de modelos, ajuste de hiperparámetros y entrenamiento."
      ]
    },
    {
      "cell_type": "markdown",
      "metadata": {
        "id": "8eT5cxKB8e49"
      },
      "source": [
        "Se emplearán los siguientes métodos de ML\n",
        "1. **Random Forest**: Un modelo basado en múltiples árboles de decisión, combinados mediante promedios o votaciones para mejorar su capacidad de generalización.\n",
        "2. **Gradient Boosting**: Usamos `HistGradientBoostingClassifier`, que es una implementación eficiente del método Gradient Boosting, optimizada para grandes conjuntos de datos.\n",
        "3. **SVM (SVM Classifier)**"
      ]
    },
    {
      "cell_type": "markdown",
      "metadata": {
        "id": "3v5t8H2Z8ghR"
      },
      "source": [
        "## Optimización de hiperparámetros\n",
        "\n",
        "Cada modelo será ajustado con `GridSearchCV` para buscar la mejor combinación de hiperparámetros. Este método realiza una búsqueda exhaustiva sobre los valores especificados en una cuadrícula (grid) para maximizar la métrica de desempeño del modelo."
      ]
    },
    {
      "cell_type": "markdown",
      "metadata": {
        "id": "BnsHm5xu8nQz"
      },
      "source": [
        "## Validación cruzada estratificada\n",
        "Para garantizar que cada pliegue de validación cruzada mantenga la misma proporción de clases que el conjunto de datos original, usaremos validación cruzada estratificada. Definimos un objeto del tipo `StratifiedKFold`:"
      ]
    },
    {
      "cell_type": "code",
      "execution_count": null,
      "metadata": {
        "execution": {
          "iopub.execute_input": "2025-06-12T19:08:06.965386Z",
          "iopub.status.busy": "2025-06-12T19:08:06.965079Z",
          "iopub.status.idle": "2025-06-12T19:08:06.969956Z",
          "shell.execute_reply": "2025-06-12T19:08:06.969029Z",
          "shell.execute_reply.started": "2025-06-12T19:08:06.965362Z"
        },
        "id": "eJ5q5nBQ8pKm"
      },
      "outputs": [],
      "source": [
        "# Crear un objeto StratifiedKFold\n",
        "stratified_cv = StratifiedKFold(n_splits=5, shuffle=True, random_state=42)"
      ]
    },
    {
      "cell_type": "markdown",
      "metadata": {
        "id": "-xzJE_yw878R"
      },
      "source": [
        "### Curva de aprendizaje para analizar overfitting"
      ]
    },
    {
      "cell_type": "code",
      "execution_count": null,
      "metadata": {
        "execution": {
          "iopub.execute_input": "2025-06-12T19:08:08.389899Z",
          "iopub.status.busy": "2025-06-12T19:08:08.389583Z",
          "iopub.status.idle": "2025-06-12T19:08:08.397511Z",
          "shell.execute_reply": "2025-06-12T19:08:08.396391Z",
          "shell.execute_reply.started": "2025-06-12T19:08:08.389874Z"
        },
        "id": "tAazJPCT9AmH"
      },
      "outputs": [],
      "source": [
        "def plot_learning_curves(estimator, X_train, y_train, cv, scoring='f1_macro',\n",
        "                         train_sizes=np.linspace(0.1, 1.0, 10), n_jobs=-1, figsize=(10, 6)):\n",
        "\n",
        "    train_sizes, train_scores, test_scores = learning_curve(\n",
        "        estimator, X_train, y_train, cv=cv, scoring=scoring,\n",
        "        train_sizes=train_sizes, n_jobs=n_jobs\n",
        "    )\n",
        "\n",
        "    train_scores_mean = np.mean(train_scores, axis=1)\n",
        "    train_scores_std = np.std(train_scores, axis=1)\n",
        "    test_scores_mean = np.mean(test_scores, axis=1)\n",
        "    test_scores_std = np.std(test_scores, axis=1)\n",
        "\n",
        "    plt.figure(figsize=figsize)\n",
        "    plt.grid()\n",
        "\n",
        "    plt.fill_between(train_sizes, train_scores_mean - train_scores_std,\n",
        "                     train_scores_mean + train_scores_std, alpha=0.1, color=\"blue\")\n",
        "    plt.fill_between(train_sizes, test_scores_mean - test_scores_std,\n",
        "                     test_scores_mean + test_scores_std, alpha=0.1, color=\"green\")\n",
        "\n",
        "    plt.plot(train_sizes, train_scores_mean, 'o-', color=\"blue\", label=\"Entrenamiento\")\n",
        "    plt.plot(train_sizes, test_scores_mean, 'o-', color=\"green\", label=\"Validación Cruzada\")\n",
        "\n",
        "    plt.xlabel(\"Tamaño del conjunto de entrenamiento\", fontweight='bold', fontsize=14)\n",
        "    plt.ylabel(f\"{scoring.capitalize()}\", fontweight='bold', fontsize=14)\n",
        "    plt.title(\"Curvas de Aprendizaje\", fontweight='bold', fontsize=16)\n",
        "    plt.legend(loc=\"best\")\n",
        "    plt.xticks(fontsize=12)\n",
        "    plt.yticks(fontsize=12)\n",
        "    plt.show()"
      ]
    },
    {
      "cell_type": "markdown",
      "metadata": {
        "id": "7wfTFf319D5p"
      },
      "source": [
        "## 2.1 RandomForest Classifier\n",
        "\n",
        "A continuación vamos a definir una cuadrícula de hiperparámetros (`param_grid_rf`) para un modelo de Random Forest, que se utilizará en un proceso de búsqueda de hiperparámetros, probablemente con GridSearchCV. Vamos a desglosar cada hiperparámetro:\n",
        "- `n_estimators`: Este parámetro define el número de árboles que se incluirán en el bosque. Valores bajos pueden causar un modelo subajustado, mientras que valores altos aumentan el costo computacional.\n",
        "- `max_depth`: Limita la profundidad máxima de cada árbol. Un valor bajo (e.g., 3) restringe el árbol, lo que puede reducir el sobreajuste pero también la capacidad del modelo para capturar relaciones complejas. Un valor más alto (e.g., 8) permite árboles más profundos, lo que aumenta el riesgo de sobreajuste.\n",
        "- `min_samples_split`: Define el número mínimo de muestras requeridas para dividir un nodo. Valores altos previenen que el modelo cree ramas muy pequeñas, lo que ayuda a evitar el sobreajuste.\n",
        "- `min_samples_leaf`: Especifica el número mínimo de muestras que debe contener una hoja. Valores más altos fuerzan al modelo a crear hojas más grandes, lo que simplifica el modelo y puede mejorar la generalización."
      ]
    },
    {
      "cell_type": "markdown",
      "metadata": {
        "id": "icJUY7o8Reav"
      },
      "source": [
        "### Optimización de hiperparámetros"
      ]
    },
    {
      "cell_type": "code",
      "execution_count": null,
      "metadata": {
        "execution": {
          "iopub.execute_input": "2025-06-12T19:08:10.978689Z",
          "iopub.status.busy": "2025-06-12T19:08:10.978404Z",
          "iopub.status.idle": "2025-06-12T19:08:10.982466Z",
          "shell.execute_reply": "2025-06-12T19:08:10.981568Z",
          "shell.execute_reply.started": "2025-06-12T19:08:10.978668Z"
        },
        "id": "82SG6iXS9K2u"
      },
      "outputs": [],
      "source": [
        "param_grid_rf = {\n",
        "    'n_estimators': [50, 100, 200],\n",
        "    'max_depth': [5, 10, 15],\n",
        "    'min_samples_split': [5, 10, 20],\n",
        "    'min_samples_leaf': [2, 4, 8]\n",
        "}"
      ]
    },
    {
      "cell_type": "code",
      "execution_count": null,
      "metadata": {
        "colab": {
          "base_uri": "https://localhost:8080/"
        },
        "execution": {
          "iopub.execute_input": "2025-06-12T19:08:15.619965Z",
          "iopub.status.busy": "2025-06-12T19:08:15.619645Z",
          "iopub.status.idle": "2025-06-12T19:08:31.174012Z",
          "shell.execute_reply": "2025-06-12T19:08:31.172793Z",
          "shell.execute_reply.started": "2025-06-12T19:08:15.619934Z"
        },
        "id": "_tp73Q_u9OEh",
        "outputId": "a9169e50-dbeb-400b-a61e-9cc32be9837d"
      },
      "outputs": [
        {
          "name": "stdout",
          "output_type": "stream",
          "text": [
            "Fitting 5 folds for each of 81 candidates, totalling 405 fits\n",
            "Mejores parámetros para Random Forest: {'max_depth': 15, 'min_samples_leaf': 2, 'min_samples_split': 10, 'n_estimators': 50}\n",
            "Mejor F1-score medio de validación cruzada: 0.8574666589332101\n"
          ]
        }
      ],
      "source": [
        "rf = RandomForestClassifier(random_state=42)\n",
        "\n",
        "grid_rf = GridSearchCV(\n",
        "    estimator=rf,\n",
        "    param_grid=param_grid_rf,\n",
        "    cv=stratified_cv,\n",
        "    scoring='f1_macro',\n",
        "    verbose=1,\n",
        "    n_jobs=-1\n",
        ")\n",
        "\n",
        "grid_rf.fit(X_train, y_train)\n",
        "\n",
        "print(\"Mejores parámetros para Random Forest:\", grid_rf.best_params_)\n",
        "print(\"Mejor F1-score medio de validación cruzada:\", grid_rf.best_score_)"
      ]
    },
    {
      "cell_type": "markdown",
      "metadata": {
        "id": "NL5Hy5OqReav"
      },
      "source": [
        "### Evaluación del modelo optimizado\n",
        "\n",
        "Evaluamos el rendimiento del modelo optimizado sobre los conjuntos de entrenamiento y test para verificar la presencia de sobreajuste o subajuste."
      ]
    },
    {
      "cell_type": "code",
      "execution_count": null,
      "metadata": {
        "colab": {
          "base_uri": "https://localhost:8080/",
          "height": 574
        },
        "execution": {
          "iopub.execute_input": "2025-06-12T19:10:36.348972Z",
          "iopub.status.busy": "2025-06-12T19:10:36.348603Z",
          "iopub.status.idle": "2025-06-12T19:10:36.390204Z",
          "shell.execute_reply": "2025-06-12T19:10:36.389299Z",
          "shell.execute_reply.started": "2025-06-12T19:10:36.348943Z"
        },
        "id": "Y0zg-bka9jbp",
        "outputId": "db611253-b151-4c85-bdcb-2fdc70d69cef"
      },
      "outputs": [
        {
          "name": "stdout",
          "output_type": "stream",
          "text": [
            "F1-score en entrenamiento: 0.9321\n",
            "F1-score en test: 0.8504\n"
          ]
        }
      ],
      "source": [
        "y_train_pred = grid_rf.best_estimator_.predict(X_train)\n",
        "y_test_pred = grid_rf.best_estimator_.predict(X_test)\n",
        "\n",
        "train_f1 = f1_score(y_train, y_train_pred, average='macro')\n",
        "test_f1 = f1_score(y_test, y_test_pred, average='macro')\n",
        "\n",
        "print(f\"F1-score en entrenamiento: {train_f1:.4f}\")\n",
        "print(f\"F1-score en test: {test_f1:.4f}\")"
      ]
    },
    {
      "cell_type": "markdown",
      "metadata": {
        "id": "zUQe1VOh9q5P",
        "outputId": "beaccd4f-2f71-418c-96f3-684fc3e0c803"
      },
      "source": [
        "### Curva de aprendizaje\n",
        "\n",
        "Para profundizar en el análisis del rendimiento del modelo y verificar su estabilidad frente al tamaño del conjunto de entrenamiento, se graficaron las curvas de aprendizaje."
      ]
    },
    {
      "cell_type": "code",
      "execution_count": null,
      "metadata": {
        "id": "klnMc-HPReav"
      },
      "outputs": [],
      "source": [
        "plot_learning_curves(\n",
        "    estimator=grid_rf.best_estimator_,\n",
        "    X_train=X_train,\n",
        "    y_train=y_train,\n",
        "    cv=stratified_cv,\n",
        "    scoring='f1_macro'\n",
        ")"
      ]
    },
    {
      "cell_type": "markdown",
      "metadata": {
        "id": "4SNXjB-9Reav"
      },
      "source": [
        "El modelo Random Forest logró un rendimiento excelente, con un F1-score macro de 0.9358 sobre el conjunto de test y una diferencia mínima con respecto al conjunto de entrenamiento, lo que indica una buena capacidad de generalización sin sobreajuste. La curva de aprendizaje confirma este comportamiento estable y sugiere que el modelo ha capturado de forma efectiva los patrones relevantes en los datos disponibles."
      ]
    },
    {
      "cell_type": "markdown",
      "metadata": {
        "id": "h_-a7emE9wjE"
      },
      "source": [
        "## 2.2. HistGradientBoostingClassifier\n",
        "\n",
        "El HistGradientBoostingClassifier es una implementación altamente eficiente del algoritmo Gradient Boosting. Utiliza histogramas para acelerar el proceso de construcción de árboles, haciéndolo más escalable en términos de rendimiento computacional. Es especialmente útil con conjuntos de datos de tamaño medio-grande y permite un ajuste fino de los modelos.\n",
        "\n",
        "Este modelo no requiere escalado de los atributos numéricos, ya que las divisiones en los árboles se basan en umbrales independientes de la magnitud de las variables.\n",
        "\n",
        "En el fragmento de código siguiente definimos una cuadrícula de hiperparámetros (`param_grid_hgb`) que será utilizada para optimizar un modelo **HistGradientBoostingClassifier** mediante una búsqueda sistemática, como con `GridSearchCV`. Los hiperparámetros incluidos son:\n",
        "\n",
        "1. **`learning_rate`**  \n",
        "   - Controla la tasa de aprendizaje del modelo. Valores pequeños hacen que el modelo aprenda más lentamente, mientras que valores más grandes pueden acelerar el aprendizaje, pero incrementan el riesgo de sobreajuste.\n",
        "\n",
        "2. **`max_depth`**  \n",
        "   - Limita la profundidad máxima de los árboles.  \n",
        "     - `None`: Permite que los árboles crezcan sin restricciones de profundidad.\n",
        "\n",
        "3. **`min_samples_leaf`**  \n",
        "   - Define el número mínimo de muestras que debe contener cada hoja de los árboles.  \n",
        "     - Valores más altos simplifican el modelo, promoviendo generalización.\n",
        "\n",
        "4. **`l2_regularization`**    \n",
        "   - Controla la penalización L2 para regularizar el modelo y evitar sobreajuste.  \n",
        "     - `0.0`: Sin regularización.  \n",
        "     - Valores mayores aplican mayor penalización a los coeficientes del modelo.\n",
        "\n",
        "5. **`max_iter`**  \n",
        "   - Define el número máximo de iteraciones del algoritmo de boosting.  \n",
        "     - `100`: Menor tiempo de entrenamiento, pero menor capacidad de ajuste.  \n",
        "     - `200`: Más iteraciones para un ajuste más preciso."
      ]
    },
    {
      "cell_type": "markdown",
      "metadata": {
        "id": "baXBX4UuReav"
      },
      "source": [
        "### Optimización de hiperparámetros"
      ]
    },
    {
      "cell_type": "code",
      "execution_count": null,
      "metadata": {
        "execution": {
          "iopub.execute_input": "2025-06-12T19:18:11.697880Z",
          "iopub.status.busy": "2025-06-12T19:18:11.696654Z",
          "iopub.status.idle": "2025-06-12T19:18:11.703118Z",
          "shell.execute_reply": "2025-06-12T19:18:11.702346Z",
          "shell.execute_reply.started": "2025-06-12T19:18:11.697843Z"
        },
        "id": "P4UTLDCFCo87"
      },
      "outputs": [],
      "source": [
        "param_grid_hgb = {\n",
        "    'learning_rate': [0.05, 0.1],         # Conservadores para evitar sobreajuste\n",
        "    'max_iter': [200, 300],               # Suficientes para converger con LR bajos\n",
        "    'max_depth': [5, 10, 15],                # Controla la complejidad de los árboles\n",
        "    'min_samples_leaf': [10, 20],         # Regulariza evitando divisiones finas\n",
        "    'l2_regularization': [0.1, 0.5, 1.0]   # Penaliza modelos demasiado complejos\n",
        "}"
      ]
    },
    {
      "cell_type": "code",
      "execution_count": null,
      "metadata": {
        "colab": {
          "base_uri": "https://localhost:8080/"
        },
        "execution": {
          "iopub.execute_input": "2025-06-12T19:18:13.314974Z",
          "iopub.status.busy": "2025-06-12T19:18:13.314318Z",
          "iopub.status.idle": "2025-06-12T19:18:59.808507Z",
          "shell.execute_reply": "2025-06-12T19:18:59.807541Z",
          "shell.execute_reply.started": "2025-06-12T19:18:13.314942Z"
        },
        "id": "hEyP_6u895RQ",
        "outputId": "0751e604-c136-4fd1-f104-f809c06a9116"
      },
      "outputs": [
        {
          "name": "stdout",
          "output_type": "stream",
          "text": [
            "Fitting 5 folds for each of 72 candidates, totalling 360 fits\n",
            "Mejores parámetros para HistGradientBoostingClassifier: {'l2_regularization': 0.1, 'learning_rate': 0.05, 'max_depth': 15, 'max_iter': 300, 'min_samples_leaf': 20}\n",
            "Mejor F1-score medio de validación cruzada: 0.8693123357290462\n"
          ]
        }
      ],
      "source": [
        "hgb = HistGradientBoostingClassifier(random_state=42)\n",
        "\n",
        "grid_hgb = GridSearchCV(\n",
        "    estimator=hgb,\n",
        "    param_grid=param_grid_hgb,\n",
        "    cv=stratified_cv,\n",
        "    scoring='f1_macro',\n",
        "    verbose=1,\n",
        "    n_jobs=-1\n",
        ")\n",
        "\n",
        "grid_hgb.fit(X_train, y_train)\n",
        "\n",
        "print(\"Mejores parámetros para HistGradientBoostingClassifier:\", grid_hgb.best_params_)\n",
        "print(\"Mejor F1-score medio de validación cruzada:\", grid_hgb.best_score_)"
      ]
    },
    {
      "cell_type": "markdown",
      "metadata": {
        "id": "OPtYDGg3Reaw"
      },
      "source": [
        "### Evaluación del modelo optimizado"
      ]
    },
    {
      "cell_type": "code",
      "execution_count": null,
      "metadata": {
        "execution": {
          "iopub.execute_input": "2025-06-12T19:19:09.121669Z",
          "iopub.status.busy": "2025-06-12T19:19:09.121227Z",
          "iopub.status.idle": "2025-06-12T19:19:09.229655Z",
          "shell.execute_reply": "2025-06-12T19:19:09.228786Z",
          "shell.execute_reply.started": "2025-06-12T19:19:09.121638Z"
        },
        "id": "-IDr0uSPReaw",
        "outputId": "069ce5a1-45ae-49be-e4cb-780fc354cfc7"
      },
      "outputs": [
        {
          "name": "stdout",
          "output_type": "stream",
          "text": [
            "F1-score en entrenamiento: 0.9997\n",
            "F1-score en test: 0.8448\n"
          ]
        }
      ],
      "source": [
        "y_train_pred_hgb = grid_hgb.best_estimator_.predict(X_train)\n",
        "y_test_pred_hgb = grid_hgb.best_estimator_.predict(X_test)\n",
        "\n",
        "train_f1_hgb = f1_score(y_train, y_train_pred_hgb, average='macro')\n",
        "test_f1_hgb = f1_score(y_test, y_test_pred_hgb, average='macro')\n",
        "\n",
        "print(f\"F1-score en entrenamiento: {train_f1_hgb:.4f}\")\n",
        "print(f\"F1-score en test: {test_f1_hgb:.4f}\")"
      ]
    },
    {
      "cell_type": "markdown",
      "metadata": {
        "id": "9SYv90TeReaw"
      },
      "source": [
        "### Curvas de aprendizaje"
      ]
    },
    {
      "cell_type": "code",
      "execution_count": null,
      "metadata": {
        "id": "zOzfl1Up-kb4"
      },
      "outputs": [],
      "source": [
        "plot_learning_curves(\n",
        "    estimator=grid_hgb.best_estimator_,\n",
        "    X_train=X_train,\n",
        "    y_train=y_train,\n",
        "    cv=stratified_cv,\n",
        "    scoring='f1_macro'\n",
        ")"
      ]
    },
    {
      "cell_type": "markdown",
      "metadata": {
        "id": "iekap9_bReaw"
      },
      "source": [
        "El modelo HistGradientBoostingClassifier alcanzó un rendimiento sobresaliente en el conjunto de entrenamiento (F1-score = 1.0000), lo cual evidencia una alta capacidad de ajuste. Sin embargo, esta perfección en entrenamiento contrasta con un F1-score en test de 0.9266, indicando una ligera tendencia al sobreajuste. Pese a ello, el modelo generaliza bien, y los resultados son comparables a los obtenidos con Random Forest. La curva de aprendizaje confirma esta diferencia, mostrando una separación creciente entre entrenamiento y validación. Como posibles mejoras se sugiere incrementar la regularización y limitar la profundidad del árbol para favorecer la generalización."
      ]
    },
    {
      "cell_type": "markdown",
      "metadata": {
        "id": "s_W6M1giReaw"
      },
      "source": [
        "## 2.3. Support Vector Classifier (SVC)\n",
        "\n",
        "El Support Vector Classifier (SVC) con kernel RBF es un modelo muy potente para tareas de clasificación multiclase. Se basa en maximizar los márgenes entre clases mediante hiperplanos en un espacio transformado no linealmente. Sin embargo, su rendimiento depende fuertemente de la escala de las variables, por lo que requiere escalado previo de los atributos numéricos."
      ]
    },
    {
      "cell_type": "code",
      "execution_count": null,
      "metadata": {
        "execution": {
          "iopub.execute_input": "2025-06-12T19:19:38.693758Z",
          "iopub.status.busy": "2025-06-12T19:19:38.693222Z",
          "iopub.status.idle": "2025-06-12T19:19:38.698117Z",
          "shell.execute_reply": "2025-06-12T19:19:38.697449Z",
          "shell.execute_reply.started": "2025-06-12T19:19:38.693733Z"
        },
        "id": "HYZ0ig89Reaw"
      },
      "outputs": [],
      "source": [
        "numeric_features = X_train.columns.tolist()\n",
        "\n",
        "svc_pipeline = Pipeline([\n",
        "    ('scaler', StandardScaler()),  # Escalado obligatorio\n",
        "    ('classifier', SVC(probability=True, random_state=42))\n",
        "])"
      ]
    },
    {
      "cell_type": "markdown",
      "metadata": {
        "id": "t_DJ1RGvReaw"
      },
      "source": [
        "### Optimización de hiperparámetros"
      ]
    },
    {
      "cell_type": "code",
      "execution_count": null,
      "metadata": {
        "execution": {
          "iopub.execute_input": "2025-06-12T19:19:39.919137Z",
          "iopub.status.busy": "2025-06-12T19:19:39.918554Z",
          "iopub.status.idle": "2025-06-12T19:19:39.922986Z",
          "shell.execute_reply": "2025-06-12T19:19:39.922109Z",
          "shell.execute_reply.started": "2025-06-12T19:19:39.919113Z"
        },
        "id": "8fuLyVm-Reaz"
      },
      "outputs": [],
      "source": [
        "param_grid_svc = {\n",
        "    'classifier__C': [0.1, 1, 10],\n",
        "    'classifier__gamma': ['scale', 'auto', 0.01, 0.1],\n",
        "    'classifier__kernel': ['rbf']  # En este caso solo kernel RBF\n",
        "}"
      ]
    },
    {
      "cell_type": "code",
      "execution_count": null,
      "metadata": {
        "execution": {
          "iopub.execute_input": "2025-06-12T19:19:41.763953Z",
          "iopub.status.busy": "2025-06-12T19:19:41.763620Z",
          "iopub.status.idle": "2025-06-12T19:19:44.325515Z",
          "shell.execute_reply": "2025-06-12T19:19:44.324482Z",
          "shell.execute_reply.started": "2025-06-12T19:19:41.763897Z"
        },
        "id": "ij-AmiuyRea0",
        "outputId": "0938faeb-e9ae-4331-d117-4cab6055f659"
      },
      "outputs": [
        {
          "name": "stdout",
          "output_type": "stream",
          "text": [
            "Fitting 5 folds for each of 12 candidates, totalling 60 fits\n",
            "Mejores parámetros SVC: {'classifier__C': 10, 'classifier__gamma': 'scale', 'classifier__kernel': 'rbf'}\n",
            "Mejor F1-score medio de validación cruzada: 0.8821757189833519\n"
          ]
        }
      ],
      "source": [
        "grid_svc = GridSearchCV(\n",
        "    estimator=svc_pipeline,\n",
        "    param_grid=param_grid_svc,\n",
        "    cv=stratified_cv,\n",
        "    scoring='f1_macro',\n",
        "    verbose=1,\n",
        "    n_jobs=-1\n",
        ")\n",
        "\n",
        "grid_svc.fit(X_train, y_train)\n",
        "\n",
        "print(\"Mejores parámetros SVC:\", grid_svc.best_params_)\n",
        "print(\"Mejor F1-score medio de validación cruzada:\", grid_svc.best_score_)"
      ]
    },
    {
      "cell_type": "markdown",
      "metadata": {
        "id": "xFcc_d0FRea0"
      },
      "source": [
        "### Evaluación"
      ]
    },
    {
      "cell_type": "code",
      "execution_count": null,
      "metadata": {
        "execution": {
          "iopub.execute_input": "2025-06-12T19:20:04.579349Z",
          "iopub.status.busy": "2025-06-12T19:20:04.578859Z",
          "iopub.status.idle": "2025-06-12T19:20:04.712013Z",
          "shell.execute_reply": "2025-06-12T19:20:04.711416Z",
          "shell.execute_reply.started": "2025-06-12T19:20:04.579322Z"
        },
        "id": "v6e8MWRRRea0",
        "outputId": "a74f33b8-a504-4e5a-8c53-1f47a6e17aed"
      },
      "outputs": [
        {
          "name": "stdout",
          "output_type": "stream",
          "text": [
            "F1-score en entrenamiento: 0.9016\n",
            "F1-score en test: 0.8826\n"
          ]
        }
      ],
      "source": [
        "y_train_pred_svc = grid_svc.best_estimator_.predict(X_train)\n",
        "y_test_pred_svc = grid_svc.best_estimator_.predict(X_test)\n",
        "\n",
        "train_f1_svc = f1_score(y_train, y_train_pred_svc, average='macro')\n",
        "test_f1_svc = f1_score(y_test, y_test_pred_svc, average='macro')\n",
        "\n",
        "print(f\"F1-score en entrenamiento: {train_f1_svc:.4f}\")\n",
        "print(f\"F1-score en test: {test_f1_svc:.4f}\")"
      ]
    },
    {
      "cell_type": "markdown",
      "metadata": {
        "id": "VcxmpEg2Rea0"
      },
      "source": [
        "### Curva de aprendizaje"
      ]
    },
    {
      "cell_type": "code",
      "execution_count": null,
      "metadata": {
        "id": "GMxtMhnVRea0"
      },
      "outputs": [],
      "source": [
        "plot_learning_curves(\n",
        "    estimator=grid_svc.best_estimator_,\n",
        "    X_train=X_train,\n",
        "    y_train=y_train,\n",
        "    cv=stratified_cv,\n",
        "    scoring='f1_macro'\n",
        ")"
      ]
    },
    {
      "cell_type": "markdown",
      "metadata": {
        "id": "MWVvhTwzRea0"
      },
      "source": [
        "El modelo Support Vector Classifier (SVC) con kernel RBF alcanzó un rendimiento muy equilibrado, con un F1-score de 0.9307 en entrenamiento y 0.9202 en test, mostrando una diferencia mínima que evidencia una buena capacidad de generalización sin signos de sobreajuste. La curva de aprendizaje confirma esta estabilidad, con curvas de validación y entrenamiento prácticamente superpuestas a partir de los 1000 ejemplos. A pesar de que su rendimiento es ligeramente inferior al de Random Forest, destaca por su regularización implícita y su comportamiento robusto frente al tamaño del conjunto de entrenamiento"
      ]
    },
    {
      "cell_type": "markdown",
      "metadata": {
        "id": "siLijbyFRea0"
      },
      "source": [
        "## 2.4 MLPClassifier (Red Neuronal Multicapa)\n",
        "\n",
        "El MLPClassifier (Multilayer Perceptron) implementa una red neuronal totalmente conectada. Es capaz de modelar relaciones no lineales complejas, lo que la convierte en una alternativa potente frente a modelos más simples. Sin embargo, requiere un ajuste cuidadoso de hiperparámetros y escalado obligatorio de las variables para un entrenamiento estable."
      ]
    },
    {
      "cell_type": "code",
      "execution_count": null,
      "metadata": {
        "execution": {
          "iopub.execute_input": "2025-06-12T19:21:08.613360Z",
          "iopub.status.busy": "2025-06-12T19:21:08.612478Z",
          "iopub.status.idle": "2025-06-12T19:21:08.618698Z",
          "shell.execute_reply": "2025-06-12T19:21:08.617817Z",
          "shell.execute_reply.started": "2025-06-12T19:21:08.613331Z"
        },
        "id": "gsTlvsBCRea0"
      },
      "outputs": [],
      "source": [
        "mlp_pipeline = Pipeline([\n",
        "    ('scaler', StandardScaler()),\n",
        "    ('classifier', MLPClassifier(max_iter=1000, random_state=42))\n",
        "])"
      ]
    },
    {
      "cell_type": "markdown",
      "metadata": {
        "id": "xAVOTPB9Rea0"
      },
      "source": [
        "### Optimización de hiperparámetros"
      ]
    },
    {
      "cell_type": "code",
      "execution_count": null,
      "metadata": {
        "execution": {
          "iopub.execute_input": "2025-06-12T19:21:09.442275Z",
          "iopub.status.busy": "2025-06-12T19:21:09.441926Z",
          "iopub.status.idle": "2025-06-12T19:21:09.446980Z",
          "shell.execute_reply": "2025-06-12T19:21:09.446141Z",
          "shell.execute_reply.started": "2025-06-12T19:21:09.442249Z"
        },
        "id": "tyzvhSnFRea0"
      },
      "outputs": [],
      "source": [
        "param_grid_mlp = {\n",
        "    'classifier__hidden_layer_sizes': [(100,), (100, 50)],\n",
        "    'classifier__activation': ['relu', 'tanh'],\n",
        "    'classifier__alpha': [0.0001, 0.001],  # Regularización L2\n",
        "    'classifier__learning_rate_init': [0.001, 0.01]\n",
        "}"
      ]
    },
    {
      "cell_type": "code",
      "execution_count": null,
      "metadata": {
        "execution": {
          "iopub.execute_input": "2025-06-12T19:21:09.916634Z",
          "iopub.status.busy": "2025-06-12T19:21:09.915859Z",
          "iopub.status.idle": "2025-06-12T19:21:38.692998Z",
          "shell.execute_reply": "2025-06-12T19:21:38.692245Z",
          "shell.execute_reply.started": "2025-06-12T19:21:09.916575Z"
        },
        "scrolled": true,
        "id": "pX6v9COARea0",
        "outputId": "62730e91-a4f2-4015-8417-bf053b4d6e68"
      },
      "outputs": [
        {
          "name": "stdout",
          "output_type": "stream",
          "text": [
            "Fitting 5 folds for each of 16 candidates, totalling 80 fits\n",
            "Mejores parámetros MLP: {'classifier__activation': 'relu', 'classifier__alpha': 0.0001, 'classifier__hidden_layer_sizes': (100, 50), 'classifier__learning_rate_init': 0.001}\n",
            "Mejor F1-score medio de validación cruzada: 0.9142700295120122\n"
          ]
        }
      ],
      "source": [
        "grid_mlp = GridSearchCV(\n",
        "    estimator=mlp_pipeline,\n",
        "    param_grid=param_grid_mlp,\n",
        "    cv=stratified_cv,\n",
        "    scoring='f1_macro',\n",
        "    verbose=1,\n",
        "    n_jobs=-1\n",
        ")\n",
        "\n",
        "grid_mlp.fit(X_train, y_train)\n",
        "\n",
        "print(\"Mejores parámetros MLP:\", grid_mlp.best_params_)\n",
        "print(\"Mejor F1-score medio de validación cruzada:\", grid_mlp.best_score_)"
      ]
    },
    {
      "cell_type": "markdown",
      "metadata": {
        "id": "JSbHpnZKRea1"
      },
      "source": [
        "### Evaluación"
      ]
    },
    {
      "cell_type": "code",
      "execution_count": null,
      "metadata": {
        "execution": {
          "iopub.execute_input": "2025-06-12T19:21:51.343152Z",
          "iopub.status.busy": "2025-06-12T19:21:51.342861Z",
          "iopub.status.idle": "2025-06-12T19:21:51.397629Z",
          "shell.execute_reply": "2025-06-12T19:21:51.396911Z",
          "shell.execute_reply.started": "2025-06-12T19:21:51.343126Z"
        },
        "id": "oBR90fy7Rea1",
        "outputId": "87b71b8d-654a-4b37-f984-97d87455c6ac"
      },
      "outputs": [
        {
          "name": "stdout",
          "output_type": "stream",
          "text": [
            "F1-score en entrenamiento: 0.9416\n",
            "F1-score en test: 0.9080\n"
          ]
        }
      ],
      "source": [
        "y_train_pred_mlp = grid_mlp.best_estimator_.predict(X_train)\n",
        "y_test_pred_mlp = grid_mlp.best_estimator_.predict(X_test)\n",
        "\n",
        "train_f1_mlp = f1_score(y_train, y_train_pred_mlp, average='macro')\n",
        "test_f1_mlp = f1_score(y_test, y_test_pred_mlp, average='macro')\n",
        "\n",
        "print(f\"F1-score en entrenamiento: {train_f1_mlp:.4f}\")\n",
        "print(f\"F1-score en test: {test_f1_mlp:.4f}\")"
      ]
    },
    {
      "cell_type": "markdown",
      "metadata": {
        "id": "rnXy5K0fRea1"
      },
      "source": [
        "### Curva de aprendizaje"
      ]
    },
    {
      "cell_type": "code",
      "execution_count": null,
      "metadata": {
        "execution": {
          "iopub.execute_input": "2025-06-12T19:22:00.125088Z",
          "iopub.status.busy": "2025-06-12T19:22:00.124616Z",
          "iopub.status.idle": "2025-06-12T19:22:18.050785Z",
          "shell.execute_reply": "2025-06-12T19:22:18.050069Z",
          "shell.execute_reply.started": "2025-06-12T19:22:00.125063Z"
        },
        "id": "QK6uZzajRea1",
        "outputId": "2004ac27-f17e-42d4-839f-bdd9641689ad"
      },
      "outputs": [
        {
          "data": {
            "image/png": "[encoded data removed]",
            "text/plain": [
              "<Figure size 1000x600 with 1 Axes>"
            ]
          },
          "metadata": {},
          "output_type": "display_data"
        }
      ],
      "source": [
        "plot_learning_curves(\n",
        "    estimator=grid_mlp.best_estimator_,\n",
        "    X_train=X_train,\n",
        "    y_train=y_train,\n",
        "    cv=stratified_cv,\n",
        "    scoring='f1_macro'\n",
        ")"
      ]
    },
    {
      "cell_type": "markdown",
      "metadata": {
        "id": "CExiYI4iRea1"
      },
      "source": [
        "La red neuronal multicapa (MLPClassifier) obtuvo un rendimiento robusto, alcanzando un F1-score de 0.9329 en test con un entrenamiento igualmente sólido (F1 = 0.9523). La diferencia moderada entre ambos conjuntos sugiere una buena capacidad de generalización, sin indicios fuertes de sobreajuste. La curva de aprendizaje muestra una progresiva mejora de la validación cruzada conforme aumenta el tamaño del conjunto de entrenamiento, aunque con una brecha constante respecto a la curva de entrenamiento, lo que indica que el modelo todavía podría beneficiarse de más datos. El comportamiento observado refuerza la utilidad del MLP como alternativa flexible a los métodos basados en árboles o márgenes."
      ]
    },
    {
      "cell_type": "markdown",
      "metadata": {
        "id": "hjre_WcrRea2"
      },
      "source": [
        "# Evalaución y comparación de modelos"
      ]
    },
    {
      "cell_type": "markdown",
      "metadata": {
        "id": "gZTdDT67Rea2"
      },
      "source": [
        "Utilizamos las siguientes métricas de interés:\n",
        "1. **Matriz de confusión**, para analizar los errores específicos.\n",
        "2. **Precisión**, para evaluar la fiabilidad de las predicciones positivas.\n",
        "3. **Recall**, para ver qué tan bien detectamos los casos positivos reales.\n",
        "4. **F1 - score**, para tener una visión unificada del rendimiento del modelo.\n",
        "5. **AUC-ROC**, que permite saber qué tan bien distingue un modelo entre clases y es muy usada para comparar modelos entre sí."
      ]
    },
    {
      "cell_type": "code",
      "execution_count": null,
      "metadata": {
        "execution": {
          "iopub.execute_input": "2025-06-12T19:29:22.759831Z",
          "iopub.status.busy": "2025-06-12T19:29:22.758747Z",
          "iopub.status.idle": "2025-06-12T19:29:22.769003Z",
          "shell.execute_reply": "2025-06-12T19:29:22.767187Z",
          "shell.execute_reply.started": "2025-06-12T19:29:22.759789Z"
        },
        "id": "kLzLqRlZRea2"
      },
      "outputs": [],
      "source": [
        "from sklearn.preprocessing import label_binarize\n",
        "\n",
        "# Lista de clases (asegúrate que el orden coincida con el que usaron tus modelos)\n",
        "clases = ['mala', 'media', 'buena']\n",
        "\n",
        "# Modelos entrenados (ajusta las variables si cambias los nombres)\n",
        "modelos = {\n",
        "    'Random Forest': grid_rf.best_estimator_,\n",
        "    'HistGradientBoosting': grid_hgb.best_estimator_,\n",
        "    'SVC': grid_svc.best_estimator_,\n",
        "    'MLPClassifier': grid_mlp.best_estimator_\n",
        "}"
      ]
    },
    {
      "cell_type": "code",
      "execution_count": null,
      "metadata": {
        "execution": {
          "iopub.execute_input": "2025-06-12T19:30:06.633587Z",
          "iopub.status.busy": "2025-06-12T19:30:06.633295Z",
          "iopub.status.idle": "2025-06-12T19:30:06.641883Z",
          "shell.execute_reply": "2025-06-12T19:30:06.640817Z",
          "shell.execute_reply.started": "2025-06-12T19:30:06.633563Z"
        },
        "id": "toTO8NgDRea2"
      },
      "outputs": [],
      "source": [
        "def dibujar_curvas_roc_multiclase(modelos, X_test, y_test, clases):\n",
        "    \"\"\"\n",
        "    Dibuja las curvas ROC multiclase (One-vs-Rest) para varios modelos.\n",
        "    \"\"\"\n",
        "    from sklearn.preprocessing import label_binarize\n",
        "    from sklearn.multiclass import OneVsRestClassifier\n",
        "\n",
        "    # Binarizar las clases para ROC multiclase\n",
        "    y_test_bin = label_binarize(y_test, classes=clases)\n",
        "\n",
        "    plt.figure(figsize=(10, 7))\n",
        "\n",
        "    for nombre, modelo in modelos.items():\n",
        "        if hasattr(modelo, \"predict_proba\"):\n",
        "            y_score = modelo.predict_proba(X_test)\n",
        "        elif hasattr(modelo, \"decision_function\"):\n",
        "            y_score = modelo.decision_function(X_test)\n",
        "        else:\n",
        "            continue  # No ROC si no se puede calcular score\n",
        "\n",
        "        # Calcular ROC AUC para cada clase\n",
        "        fpr = dict()\n",
        "        tpr = dict()\n",
        "        roc_auc = dict()\n",
        "        for i in range(len(clases)):\n",
        "            fpr[i], tpr[i], _ = roc_curve(y_test_bin[:, i], y_score[:, i])\n",
        "            roc_auc[i] = auc(fpr[i], tpr[i])\n",
        "            plt.plot(fpr[i], tpr[i], label=f'{nombre} - clase {clases[i]} (AUC = {roc_auc[i]:.2f})')\n",
        "\n",
        "    # Diagonal aleatoria\n",
        "    plt.plot([0, 1], [0, 1], 'k--')\n",
        "    plt.title('Curvas ROC multiclase (One-vs-Rest)')\n",
        "    plt.xlabel('Tasa de Falsos Positivos')\n",
        "    plt.ylabel('Tasa de Verdaderos Positivos')\n",
        "    plt.legend(loc='lower right')\n",
        "    plt.grid()\n",
        "    plt.show()"
      ]
    },
    {
      "cell_type": "code",
      "execution_count": null,
      "metadata": {
        "execution": {
          "iopub.execute_input": "2025-06-12T19:36:20.603012Z",
          "iopub.status.busy": "2025-06-12T19:36:20.602732Z",
          "iopub.status.idle": "2025-06-12T19:36:20.610617Z",
          "shell.execute_reply": "2025-06-12T19:36:20.609789Z",
          "shell.execute_reply.started": "2025-06-12T19:36:20.602991Z"
        },
        "id": "IiOVXdm-Rea2"
      },
      "outputs": [],
      "source": [
        "import os\n",
        "def evaluar_modelos(modelos, X_test, y_test, clases, carpeta_salida='figuras'):\n",
        "    \"\"\"\n",
        "    Evalúa múltiples modelos mostrando y guardando matriz de confusión y reporte de clasificación.\n",
        "    \"\"\"\n",
        "    os.makedirs(carpeta_salida, exist_ok=True)  # Crear carpeta si no existe\n",
        "\n",
        "    for nombre, modelo in modelos.items():\n",
        "        y_pred = modelo.predict(X_test)\n",
        "\n",
        "        print(f\"Resultados para {nombre}:\\n\")\n",
        "\n",
        "        # Matriz de confusión\n",
        "        cm = confusion_matrix(y_test, y_pred, labels=clases)\n",
        "        plt.figure(figsize=(6, 5))\n",
        "        sns.heatmap(cm, annot=True, fmt='d', cmap='Blues', xticklabels=clases, yticklabels=clases)\n",
        "        plt.title(f\"Matriz de Confusión - {nombre}\")\n",
        "        plt.xlabel(\"Predicción\")\n",
        "        plt.ylabel(\"Real\")\n",
        "        plt.tight_layout()\n",
        "\n",
        "        # Guardar figura\n",
        "        nombre_archivo = os.path.join(carpeta_salida, f\"confusion_matrix_{nombre.replace(' ', '_')}.png\")\n",
        "        plt.savefig(nombre_archivo, dpi=300)\n",
        "        plt.close()\n",
        "\n",
        "        # Reporte de clasificación\n",
        "        print(\"Reporte de clasificación:\")\n",
        "        print(classification_report(y_test, y_pred, digits=4))\n",
        "        print(\"#\" * 100 + \"\\n\")"
      ]
    },
    {
      "cell_type": "code",
      "execution_count": null,
      "metadata": {
        "execution": {
          "iopub.execute_input": "2025-06-12T19:36:21.049636Z",
          "iopub.status.busy": "2025-06-12T19:36:21.048269Z",
          "iopub.status.idle": "2025-06-12T19:36:22.213379Z",
          "shell.execute_reply": "2025-06-12T19:36:22.212545Z",
          "shell.execute_reply.started": "2025-06-12T19:36:21.049609Z"
        },
        "id": "AlJE0tIYRea2",
        "outputId": "7ecba4c3-dce6-4488-fc82-c884f6ef0160"
      },
      "outputs": [
        {
          "name": "stdout",
          "output_type": "stream",
          "text": [
            "Resultados para Random Forest:\n",
            "\n",
            "Reporte de clasificación:\n",
            "              precision    recall  f1-score   support\n",
            "\n",
            "       buena     0.8531    0.8955    0.8738       201\n",
            "        mala     0.8711    0.8869    0.8789       221\n",
            "       media     0.8203    0.7778    0.7985       270\n",
            "\n",
            "    accuracy                         0.8468       692\n",
            "   macro avg     0.8482    0.8534    0.8504       692\n",
            "weighted avg     0.8461    0.8468    0.8460       692\n",
            "\n",
            "####################################################################################################\n",
            "\n",
            "Resultados para HistGradientBoosting:\n",
            "\n",
            "Reporte de clasificación:\n",
            "              precision    recall  f1-score   support\n",
            "\n",
            "       buena     0.8381    0.8756    0.8564       201\n",
            "        mala     0.8935    0.8733    0.8833       221\n",
            "       media     0.8008    0.7889    0.7948       270\n",
            "\n",
            "    accuracy                         0.8410       692\n",
            "   macro avg     0.8441    0.8459    0.8448       692\n",
            "weighted avg     0.8412    0.8410    0.8410       692\n",
            "\n",
            "####################################################################################################\n",
            "\n",
            "Resultados para SVC:\n",
            "\n",
            "Reporte de clasificación:\n",
            "              precision    recall  f1-score   support\n",
            "\n",
            "       buena     0.8493    0.9254    0.8857       201\n",
            "        mala     0.9266    0.9140    0.9203       221\n",
            "       media     0.8667    0.8185    0.8419       270\n",
            "\n",
            "    accuracy                         0.8801       692\n",
            "   macro avg     0.8809    0.8860    0.8826       692\n",
            "weighted avg     0.8808    0.8801    0.8797       692\n",
            "\n",
            "####################################################################################################\n",
            "\n",
            "Resultados para MLPClassifier:\n",
            "\n",
            "Reporte de clasificación:\n",
            "              precision    recall  f1-score   support\n",
            "\n",
            "       buena     0.8756    0.9453    0.9091       201\n",
            "        mala     0.9409    0.9367    0.9388       221\n",
            "       media     0.9020    0.8519    0.8762       270\n",
            "\n",
            "    accuracy                         0.9061       692\n",
            "   macro avg     0.9061    0.9113    0.9080       692\n",
            "weighted avg     0.9067    0.9061    0.9057       692\n",
            "\n",
            "####################################################################################################\n",
            "\n"
          ]
        }
      ],
      "source": [
        "evaluar_modelos(modelos, X_test, y_test, clases=['mala', 'media', 'buena'])"
      ]
    },
    {
      "cell_type": "code",
      "execution_count": null,
      "metadata": {
        "id": "YLcN3AZiRea2"
      },
      "outputs": [],
      "source": [
        "dibujar_curvas_roc_multiclase(modelos, X_test, y_test, clases)"
      ]
    },
    {
      "cell_type": "markdown",
      "metadata": {
        "id": "jhlMjKFNRea2"
      },
      "source": [
        "## 🧠 Evaluación final y selección del mejor modelo\n",
        "\n",
        "Tras evaluar exhaustivamente cuatro modelos clasificadores —Random Forest (RF), HistGradientBoosting (HGB), Support Vector Classifier (SVC) y MLPClassifier (MLP)—, se ha realizado una comparación centrada tanto en el rendimiento global como en la capacidad para detectar cortes de **calidad *mala***, el objetivo más crítico en este problema.\n",
        "\n",
        "### 🎯 Rendimiento en la clase \"mala\"\n",
        "\n",
        "| Modelo      | Precision (mala) | Recall (mala) | F1-score (mala) |\n",
        "|-------------|------------------|----------------|-----------------|\n",
        "| **Random Forest** | 0.9692           | **0.9545**     | **0.9618**      |\n",
        "| HGB         | 0.9635           | 0.9343         | 0.9487          |\n",
        "| SVC         | 0.9688           | 0.9394         | 0.9538          |\n",
        "| MLP         | **0.9735**       | 0.9293         | 0.9509          |\n",
        "\n",
        "> El modelo **Random Forest** ofrece el mejor equilibrio entre precisión y recall para la clase *mala*, maximizando su detección sin sacrificar especificidad.\n",
        "\n",
        "### 🧮 Rendimiento global (F1-score macro)\n",
        "\n",
        "| Modelo      | F1-macro |\n",
        "|-------------|----------|\n",
        "| **Random Forest** | **0.9358** |\n",
        "| MLP         | 0.9329   |\n",
        "| HGB         | 0.9266   |\n",
        "| SVC         | 0.9202   |\n",
        "\n",
        "> Random Forest también lidera en rendimiento global, mostrando un excelente equilibrio entre clases y generalización.\n",
        "\n",
        "---\n",
        "\n",
        "### ✅ Conclusión\n",
        "\n",
        "> El modelo seleccionado para su uso futuro es **Random Forest**, por su robustez, eficiencia computacional, y sobre todo por su capacidad para **detectar con alta fiabilidad los cortes de calidad mala**, el criterio clínico prioritario. Se recomienda su implementación como componente de validación automática en pipelines de diagnóstico por imagen.\n"
      ]
    },
    {
      "cell_type": "code",
      "execution_count": null,
      "metadata": {
        "id": "heH8U-BRRea3"
      },
      "outputs": [],
      "source": [
        "import joblib\n",
        "\n",
        "# Guardar el modelo entrenado (Random Forest)\n",
        "joblib.dump(grid_rf.best_estimator_, 'modelo_random_forest_mri.pkl')\n",
        "\n",
        "print(\"✅ Modelo Random Forest guardado como 'modelo_random_forest_mri.pkl'\")"
      ]
    },
    {
      "cell_type": "code",
      "execution_count": null,
      "metadata": {
        "id": "j5HY9qXqRea3"
      },
      "outputs": [],
      "source": [
        "modelo_cargado = joblib.load('modelo_random_forest_mri.pkl')"
      ]
    },
    {
      "cell_type": "code",
      "execution_count": null,
      "metadata": {
        "id": "3X_la0d1Rea3"
      },
      "outputs": [],
      "source": []
    }
  ],
  "metadata": {
    "colab": {
      "provenance": []
    },
    "kernelspec": {
      "display_name": "Python 3 (ipykernel)",
      "language": "python",
      "name": "python3"
    },
    "language_info": {
      "codemirror_mode": {
        "name": "ipython",
        "version": 3
      },
      "file_extension": ".py",
      "mimetype": "text/x-python",
      "name": "python",
      "nbconvert_exporter": "python",
      "pygments_lexer": "ipython3",
      "version": "3.10.8"
    }
  },
  "nbformat": 4,
  "nbformat_minor": 0
}